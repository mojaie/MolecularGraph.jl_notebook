{
 "cells": [
  {
   "cell_type": "code",
   "execution_count": 3,
   "id": "71127944",
   "metadata": {},
   "outputs": [],
   "source": [
    "from rdkit import Chem\n",
    "from rdkit.Chem import AllChem\n",
    "from rdkit.Chem import rdFMCS\n",
    "import timeit"
   ]
  },
  {
   "cell_type": "code",
   "execution_count": 19,
   "id": "ad3e2d62",
   "metadata": {},
   "outputs": [
    {
     "name": "stdout",
     "output_type": "stream",
     "text": [
      "9\n",
      "9\n",
      "9\n",
      "0.006708640000094117\n",
      "24\n",
      "24\n",
      "24\n",
      "0.1347637639999751\n",
      "23\n",
      "23\n",
      "23\n",
      "1.0797272340000745\n"
     ]
    }
   ],
   "source": [
    "\n",
    "camphor = r\"CC1(C)C2CCC1(C)C(=O)C2\"\n",
    "adamantanone = r\"C1C2CC3CC1CC(C2)C3=O\"\n",
    "gefitinib = r\"C1COCCN1CCCOc2c(OC)cc3ncnc(c3c2)Nc4cc(Cl)c(F)cc4\"\n",
    "erlotinib = r\"COCCOc1cc2c(cc1OCCOC)ncnc2Nc3cccc(c3)C#C\"\n",
    "minocycline = r\"C[C@H]1[C@H]([C@H](C[C@@H](O1)O[C@H]2C[C@@](Cc3c2c(c4c(c3O)C(=O)c5cccc(c5C4=O)OC)O)(C(=O)CO)O)N)O\"\n",
    "doxorubicin = r\"CN(C)c1ccc(c2c1C[C@H]3C[C@H]4[C@@H](C(=C(C(=O)[C@]4(C(=C3C2=O)O)O)C(=O)N)O)N(C)C)O\"\n",
    "\n",
    "def rdfmcs(mol1, mol2):\n",
    "    mcs = rdFMCS.FindMCS((mol1, mol2), timeout=5)\n",
    "    print(mcs.numBonds)\n",
    "\n",
    "cnt = 3\n",
    "for s1, s2 in [(camphor, adamantanone), (gefitinib, erlotinib), (minocycline, doxorubicin)]:\n",
    "    m1 = Chem.MolFromSmiles(s1)\n",
    "    m2 = Chem.MolFromSmiles(s2)\n",
    "    print(timeit.timeit(lambda: rdfmcs(m1, m2), number=cnt) / cnt)\n",
    "\n"
   ]
  }
 ],
 "metadata": {
  "kernelspec": {
   "display_name": "Python 3",
   "language": "python",
   "name": "python3"
  },
  "language_info": {
   "codemirror_mode": {
    "name": "ipython",
    "version": 3
   },
   "file_extension": ".py",
   "mimetype": "text/x-python",
   "name": "python",
   "nbconvert_exporter": "python",
   "pygments_lexer": "ipython3",
   "version": "3.8.5"
  }
 },
 "nbformat": 4,
 "nbformat_minor": 5
}
