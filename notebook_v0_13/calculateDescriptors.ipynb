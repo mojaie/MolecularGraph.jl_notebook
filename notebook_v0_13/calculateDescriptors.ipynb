{
 "cells": [
  {
   "cell_type": "markdown",
   "metadata": {},
   "source": [
    "# Calculate descriptors\n",
    "\n",
    "MolecularGraph.jl version: 0.10.0\n",
    "\n",
    "This tutorial includes following fundamental operations for molecular descriptors.\n",
    "\n",
    "- Concept of descriptor function/array\n",
    "- Cache mechanism\n",
    "- Frequently used descriptors"
   ]
  },
  {
   "cell_type": "code",
   "execution_count": 1,
   "metadata": {
    "ExecuteTime": {
     "end_time": "2020-07-30T22:59:58.355000+09:00",
     "start_time": "2020-07-30T13:59:46.744Z"
    },
    "scrolled": true
   },
   "outputs": [
    {
     "name": "stderr",
     "output_type": "stream",
     "text": [
      "\u001b[32m\u001b[1m  Activating\u001b[22m\u001b[39m environment at `~/Repository/MolecularGraph.jl_notebook/Project.toml`\n",
      "Path `../../MolecularGraph.jl` exists and looks like the correct package. Using existing path.\n",
      "\u001b[32m\u001b[1m   Resolving\u001b[22m\u001b[39m package versions...\n",
      "\u001b[32m\u001b[1m  No Changes\u001b[22m\u001b[39m to `~/Repository/MolecularGraph.jl_notebook/Project.toml`\n",
      "\u001b[32m\u001b[1m  No Changes\u001b[22m\u001b[39m to `~/Repository/MolecularGraph.jl_notebook/Manifest.toml`\n"
     ]
    }
   ],
   "source": [
    "using Pkg\n",
    "Pkg.activate(\"..\")\n",
    "using MolecularGraph\n",
    "using MolecularGraph.Graph\n",
    "using BenchmarkTools"
   ]
  },
  {
   "cell_type": "code",
   "execution_count": 2,
   "metadata": {
    "ExecuteTime": {
     "end_time": "2020-07-30T23:00:07.764000+09:00",
     "start_time": "2020-07-30T14:00:00.153Z"
    }
   },
   "outputs": [
    {
     "data": {
      "image/svg+xml": [
       "<svg xmlns=\"http://www.w3.org/2000/svg\"\n",
       " xmlns:xlink=\"http://www.w3.org/1999/xlink\"\n",
       " version=\"1.2\" baseProfile=\"tiny\"\n",
       " text-rendering=\"geometricPrecision\"\n",
       " preserveAspectRatio=\"xMidYMid meet\"\n",
       " font-weight=\"normal\"\n",
       " font-family=\"Helvetica\"\n",
       " width=\"300\" height=\"300\"\n",
       " viewBox=\"0 0 250.72 215.25\">\n",
       "<rect x=\"0\" y=\"0\" width=\"250.72\" height=\"215.25\"\n",
       " fill=\"rgb(255, 255, 255)\" opacity=\"0.0\"/>\n",
       "<line x1=\"142.57\" y1=\"136.43\" x2=\"119.02\" y2=\"117.84\" stroke=\"rgb(0, 0, 0)\" /><line x1=\"119.02\" y1=\"117.84\" x2=\"125.55\" y2=\"88.56\" stroke=\"rgb(0, 0, 0)\" /><line x1=\"124.07\" y1=\"115.89\" x2=\"129.29\" y2=\"92.47\" stroke=\"rgb(0, 0, 0)\" /><line x1=\"145.25\" y1=\"36.09\" x2=\"152.98\" y2=\"43.19\" stroke=\"rgb(0, 0, 255)\" />\n",
       "<line x1=\"152.98\" y1=\"43.19\" x2=\"160.71\" y2=\"50.29\" stroke=\"rgb(0, 0, 0)\" />\n",
       "<line x1=\"76.92\" y1=\"151.74\" x2=\"89.81\" y2=\"124.65\" stroke=\"rgb(0, 0, 0)\" /><line x1=\"168.48\" y1=\"121.31\" x2=\"194.52\" y2=\"136.19\" stroke=\"rgb(0, 0, 0)\" /><line x1=\"63.82\" y1=\"100.66\" x2=\"53.36\" y2=\"101.50\" stroke=\"rgb(0, 0, 255)\" />\n",
       "<line x1=\"53.36\" y1=\"101.50\" x2=\"42.89\" y2=\"102.33\" stroke=\"rgb(0, 0, 0)\" />\n",
       "<line x1=\"125.55\" y1=\"88.56\" x2=\"103.46\" y2=\"68.26\" stroke=\"rgb(0, 0, 0)\" /><line x1=\"212.90\" y1=\"176.60\" x2=\"203.79\" y2=\"171.39\" stroke=\"rgb(64, 192, 64)\" />\n",
       "<line x1=\"203.79\" y1=\"171.39\" x2=\"194.67\" y2=\"166.18\" stroke=\"rgb(0, 0, 0)\" />\n",
       "<line x1=\"110.00\" y1=\"38.98\" x2=\"120.02\" y2=\"35.84\" stroke=\"rgb(0, 0, 0)\" />\n",
       "<line x1=\"120.02\" y1=\"35.84\" x2=\"130.04\" y2=\"32.69\" stroke=\"rgb(0, 0, 255)\" />\n",
       "<line x1=\"154.18\" y1=\"79.58\" x2=\"125.55\" y2=\"88.56\" stroke=\"rgb(0, 0, 0)\" /><line x1=\"142.57\" y1=\"136.43\" x2=\"168.48\" y2=\"121.31\" stroke=\"rgb(0, 0, 0)\" /><line x1=\"147.43\" y1=\"138.81\" x2=\"168.16\" y2=\"126.71\" stroke=\"rgb(0, 0, 0)\" /><line x1=\"119.02\" y1=\"117.84\" x2=\"89.81\" y2=\"124.65\" stroke=\"rgb(0, 0, 0)\" /><line x1=\"47.02\" y1=\"154.13\" x2=\"76.92\" y2=\"151.74\" stroke=\"rgb(0, 0, 0)\" /><line x1=\"49.65\" y1=\"149.40\" x2=\"73.57\" y2=\"147.50\" stroke=\"rgb(0, 0, 0)\" /><line x1=\"42.89\" y1=\"102.33\" x2=\"30.00\" y2=\"129.42\" stroke=\"rgb(0, 0, 0)\" /><line x1=\"45.67\" y1=\"106.97\" x2=\"35.35\" y2=\"128.64\" stroke=\"rgb(0, 0, 0)\" /><line x1=\"90.07\" y1=\"178.71\" x2=\"119.34\" y2=\"185.25\" stroke=\"rgb(0, 0, 0)\" /><line x1=\"168.76\" y1=\"181.30\" x2=\"142.71\" y2=\"166.43\" stroke=\"rgb(0, 0, 0)\" /><line x1=\"168.39\" y1=\"175.90\" x2=\"147.55\" y2=\"164.01\" stroke=\"rgb(0, 0, 0)\" /><line x1=\"89.81\" y1=\"124.65\" x2=\"83.86\" y2=\"116.01\" stroke=\"rgb(0, 0, 0)\" />\n",
       "<line x1=\"83.86\" y1=\"116.01\" x2=\"77.90\" y2=\"107.36\" stroke=\"rgb(0, 0, 255)\" />\n",
       "<line x1=\"84.92\" y1=\"125.48\" x2=\"80.15\" y2=\"118.56\" stroke=\"rgb(0, 0, 0)\" />\n",
       "<line x1=\"80.15\" y1=\"118.56\" x2=\"75.38\" y2=\"111.64\" stroke=\"rgb(0, 0, 255)\" />\n",
       "<line x1=\"194.52\" y1=\"136.19\" x2=\"194.67\" y2=\"166.18\" stroke=\"rgb(0, 0, 0)\" /><line x1=\"190.04\" y1=\"139.21\" x2=\"190.15\" y2=\"163.20\" stroke=\"rgb(0, 0, 0)\" /><line x1=\"142.71\" y1=\"166.43\" x2=\"142.57\" y2=\"136.43\" stroke=\"rgb(0, 0, 0)\" /><line x1=\"76.92\" y1=\"151.74\" x2=\"90.07\" y2=\"178.71\" stroke=\"rgb(0, 0, 0)\" /><line x1=\"119.34\" y1=\"185.25\" x2=\"142.71\" y2=\"166.43\" stroke=\"rgb(0, 0, 0)\" /><line x1=\"194.67\" y1=\"166.18\" x2=\"168.76\" y2=\"181.30\" stroke=\"rgb(0, 0, 0)\" /><line x1=\"30.00\" y1=\"129.42\" x2=\"47.02\" y2=\"154.13\" stroke=\"rgb(0, 0, 0)\" /><line x1=\"103.46\" y1=\"68.26\" x2=\"110.00\" y2=\"38.98\" stroke=\"rgb(0, 0, 0)\" /><line x1=\"160.71\" y1=\"50.29\" x2=\"154.18\" y2=\"79.58\" stroke=\"rgb(0, 0, 0)\" /><text x=\"72.79\" y=\"106.95\" font-size=\"14.0\"\n",
       " fill=\"rgb(0, 0, 255)\" text-anchor=\"middle\" >N</text>\n",
       "<text x=\"220.72\" y=\"188.06\" font-size=\"14.0\"\n",
       " fill=\"rgb(64, 192, 64)\" text-anchor=\"middle\" >Cl</text>\n",
       "<text x=\"138.62\" y=\"37.00\" font-size=\"14.0\"\n",
       " fill=\"rgb(0, 0, 255)\" text-anchor=\"middle\" >NH</text>\n",
       "<g>\n",
       " <rect x=\"142.57\" y=\"136.43\" width=\"10\" height=\"10\" rx=\"5.0\" ry=\"5.0\" fill=\"rgb(240, 240, 255)\" />\n",
       " <text x=\"142.57\" y=\"146.43\" font-size=\"10\" fill=\"rgb(0, 0, 0)\">5</text>\n",
       "</g>\n",
       "<g>\n",
       " <rect x=\"103.46\" y=\"68.26\" width=\"10\" height=\"10\" rx=\"5.0\" ry=\"5.0\" fill=\"rgb(240, 240, 255)\" />\n",
       " <text x=\"103.46\" y=\"78.26\" font-size=\"10\" fill=\"rgb(0, 0, 0)\">16</text>\n",
       "</g>\n",
       "<g>\n",
       " <rect x=\"154.18\" y=\"79.58\" width=\"10\" height=\"10\" rx=\"5.0\" ry=\"5.0\" fill=\"rgb(240, 240, 255)\" />\n",
       " <text x=\"154.18\" y=\"89.58\" font-size=\"10\" fill=\"rgb(0, 0, 0)\">20</text>\n",
       "</g>\n",
       "<g>\n",
       " <rect x=\"76.92\" y=\"151.74\" width=\"10\" height=\"10\" rx=\"5.0\" ry=\"5.0\" fill=\"rgb(240, 240, 255)\" />\n",
       " <text x=\"76.92\" y=\"161.74\" font-size=\"10\" fill=\"rgb(0, 0, 0)\">12</text>\n",
       "</g>\n",
       "<g>\n",
       " <rect x=\"72.79\" y=\"106.95\" width=\"10\" height=\"10\" rx=\"5.0\" ry=\"5.0\" fill=\"rgb(240, 240, 255)\" />\n",
       " <text x=\"72.79\" y=\"116.95\" font-size=\"10\" fill=\"rgb(0, 0, 0)\">8</text>\n",
       "</g>\n",
       "<g>\n",
       " <rect x=\"110.00\" y=\"38.98\" width=\"10\" height=\"10\" rx=\"5.0\" ry=\"5.0\" fill=\"rgb(240, 240, 255)\" />\n",
       " <text x=\"110.00\" y=\"48.98\" font-size=\"10\" fill=\"rgb(0, 0, 0)\">17</text>\n",
       "</g>\n",
       "<g>\n",
       " <rect x=\"220.72\" y=\"188.06\" width=\"10\" height=\"10\" rx=\"5.0\" ry=\"5.0\" fill=\"rgb(240, 240, 255)\" />\n",
       " <text x=\"220.72\" y=\"198.06\" font-size=\"10\" fill=\"rgb(0, 0, 0)\">1</text>\n",
       "</g>\n",
       "<g>\n",
       " <rect x=\"160.71\" y=\"50.29\" width=\"10\" height=\"10\" rx=\"5.0\" ry=\"5.0\" fill=\"rgb(240, 240, 255)\" />\n",
       " <text x=\"160.71\" y=\"60.29\" font-size=\"10\" fill=\"rgb(0, 0, 0)\">19</text>\n",
       "</g>\n",
       "<g>\n",
       " <rect x=\"194.52\" y=\"136.19\" width=\"10\" height=\"10\" rx=\"5.0\" ry=\"5.0\" fill=\"rgb(240, 240, 255)\" />\n",
       " <text x=\"194.52\" y=\"146.19\" font-size=\"10\" fill=\"rgb(0, 0, 0)\">22</text>\n",
       "</g>\n",
       "<g>\n",
       " <rect x=\"119.02\" y=\"117.84\" width=\"10\" height=\"10\" rx=\"5.0\" ry=\"5.0\" fill=\"rgb(240, 240, 255)\" />\n",
       " <text x=\"119.02\" y=\"127.84\" font-size=\"10\" fill=\"rgb(0, 0, 0)\">6</text>\n",
       "</g>\n",
       "<g>\n",
       " <rect x=\"47.02\" y=\"154.13\" width=\"10\" height=\"10\" rx=\"5.0\" ry=\"5.0\" fill=\"rgb(240, 240, 255)\" />\n",
       " <text x=\"47.02\" y=\"164.13\" font-size=\"10\" fill=\"rgb(0, 0, 0)\">11</text>\n",
       "</g>\n",
       "<g>\n",
       " <rect x=\"42.89\" y=\"102.33\" width=\"10\" height=\"10\" rx=\"5.0\" ry=\"5.0\" fill=\"rgb(240, 240, 255)\" />\n",
       " <text x=\"42.89\" y=\"112.33\" font-size=\"10\" fill=\"rgb(0, 0, 0)\">9</text>\n",
       "</g>\n",
       "<g>\n",
       " <rect x=\"119.34\" y=\"185.25\" width=\"10\" height=\"10\" rx=\"5.0\" ry=\"5.0\" fill=\"rgb(240, 240, 255)\" />\n",
       " <text x=\"119.34\" y=\"195.25\" font-size=\"10\" fill=\"rgb(0, 0, 0)\">14</text>\n",
       "</g>\n",
       "<g>\n",
       " <rect x=\"168.76\" y=\"181.30\" width=\"10\" height=\"10\" rx=\"5.0\" ry=\"5.0\" fill=\"rgb(240, 240, 255)\" />\n",
       " <text x=\"168.76\" y=\"191.30\" font-size=\"10\" fill=\"rgb(0, 0, 0)\">3</text>\n",
       "</g>\n",
       "<g>\n",
       " <rect x=\"89.81\" y=\"124.65\" width=\"10\" height=\"10\" rx=\"5.0\" ry=\"5.0\" fill=\"rgb(240, 240, 255)\" />\n",
       " <text x=\"89.81\" y=\"134.65\" font-size=\"10\" fill=\"rgb(0, 0, 0)\">7</text>\n",
       "</g>\n",
       "<g>\n",
       " <rect x=\"142.71\" y=\"166.43\" width=\"10\" height=\"10\" rx=\"5.0\" ry=\"5.0\" fill=\"rgb(240, 240, 255)\" />\n",
       " <text x=\"142.71\" y=\"176.43\" font-size=\"10\" fill=\"rgb(0, 0, 0)\">4</text>\n",
       "</g>\n",
       "<g>\n",
       " <rect x=\"90.07\" y=\"178.71\" width=\"10\" height=\"10\" rx=\"5.0\" ry=\"5.0\" fill=\"rgb(240, 240, 255)\" />\n",
       " <text x=\"90.07\" y=\"188.71\" font-size=\"10\" fill=\"rgb(0, 0, 0)\">13</text>\n",
       "</g>\n",
       "<g>\n",
       " <rect x=\"125.55\" y=\"88.56\" width=\"10\" height=\"10\" rx=\"5.0\" ry=\"5.0\" fill=\"rgb(240, 240, 255)\" />\n",
       " <text x=\"125.55\" y=\"98.56\" font-size=\"10\" fill=\"rgb(0, 0, 0)\">15</text>\n",
       "</g>\n",
       "<g>\n",
       " <rect x=\"194.67\" y=\"166.18\" width=\"10\" height=\"10\" rx=\"5.0\" ry=\"5.0\" fill=\"rgb(240, 240, 255)\" />\n",
       " <text x=\"194.67\" y=\"176.18\" font-size=\"10\" fill=\"rgb(0, 0, 0)\">2</text>\n",
       "</g>\n",
       "<g>\n",
       " <rect x=\"30.00\" y=\"129.42\" width=\"10\" height=\"10\" rx=\"5.0\" ry=\"5.0\" fill=\"rgb(240, 240, 255)\" />\n",
       " <text x=\"30.00\" y=\"139.42\" font-size=\"10\" fill=\"rgb(0, 0, 0)\">10</text>\n",
       "</g>\n",
       "<g>\n",
       " <rect x=\"138.62\" y=\"37.00\" width=\"10\" height=\"10\" rx=\"5.0\" ry=\"5.0\" fill=\"rgb(240, 240, 255)\" />\n",
       " <text x=\"138.62\" y=\"47.00\" font-size=\"10\" fill=\"rgb(0, 0, 0)\">18</text>\n",
       "</g>\n",
       "<g>\n",
       " <rect x=\"168.48\" y=\"121.31\" width=\"10\" height=\"10\" rx=\"5.0\" ry=\"5.0\" fill=\"rgb(240, 240, 255)\" />\n",
       " <text x=\"168.48\" y=\"131.31\" font-size=\"10\" fill=\"rgb(0, 0, 0)\">21</text>\n",
       "</g>\n",
       "</svg>\n"
      ]
     },
     "metadata": {},
     "output_type": "display_data"
    }
   ],
   "source": [
    "# Demo molecule with atom indices\n",
    "mol = smilestomol(\"Clc4cc2c(C(/c1ncccc1CC2)=C3/CCNCC3)cc4\")\n",
    "canvas = SvgCanvas()\n",
    "draw2d!(canvas, mol)\n",
    "drawatomindex!(canvas, mol)\n",
    "molsvg = tosvg(canvas, 300, 300)\n",
    "display(\"image/svg+xml\",  molsvg)"
   ]
  },
  {
   "cell_type": "markdown",
   "metadata": {},
   "source": [
    "## Concept of descriptor function/array\n",
    "\n",
    "Descriptor array is typically a vector calculated from a molecular object by a descriptor function. Most of fundamental descriptor functions are coded in `src/properties.jl`."
   ]
  },
  {
   "cell_type": "code",
   "execution_count": 3,
   "metadata": {
    "ExecuteTime": {
     "end_time": "2020-07-30T23:00:10.919000+09:00",
     "start_time": "2020-07-30T14:00:10.660Z"
    }
   },
   "outputs": [
    {
     "name": "stdout",
     "output_type": "stream",
     "text": [
      "[0, 0, 1, 0, 0, 0, 0, 0, 1, 1, 1, 0, 2, 2, 0, 2, 2, 1, 2, 2, 1, 1]\n"
     ]
    }
   ],
   "source": [
    "println(hydrogenconnected(mol))"
   ]
  },
  {
   "cell_type": "markdown",
   "metadata": {},
   "source": [
    "`hydrogenconnected(mol)` returns a vector of the total number of hydrogens connected to each atom nodes. For example, atom \\#13 is a secondary carbon so we can infer there is two hydrogens on it, therefore hydrogenconnected(mol)\\[13\\] is 2.\n",
    "\n",
    "`hydrogenconnected` is defined as below in `src/properties.jl`\n",
    "\n",
    "```julia\n",
    "@cachefirst hydrogenconnected(mol::GraphMol\n",
    "    ) = explicithconnected(mol) + implicithconnected(mol)\n",
    "```\n",
    "\n",
    "`@cachefirst` macro is to cache the results for fast calculation (described later). We can know that `hydrogenconnected` is derived from `explicithconnected` and `implicithconnected`.\n",
    "\n",
    "`implicithconnected` is defined as below in `src/properties.jl`\n",
    "\n",
    "```julia\n",
    "@cachefirst function implicithconnected(mol::GraphMol)\n",
    "    hcnt = (v, av) -> v === nothing ? 0 : max(0, v - av)\n",
    "    return hcnt.(valence(mol), apparentvalence(mol))\n",
    "end\n",
    "```\n",
    "\n",
    "so `implicithconnected` depends on `valence` and `apparentvalence`.\n",
    "\n",
    "We can trace back the dependencies, and then can find these descriptors are derived from graph topologies (e.g. neighbors) and attributes (e.g. Atom.symbol and Bond.order). This descriptor function/array system can also deal with more complicated descriptors such as `isrotatable` and `isaromatic` as like a simple function that takes molecule object and returns an array without any adverse effects.\n",
    "\n",
    "Note that manipulation of the molecular graph topology and attributes will break consistency in descriptor arrays. It is important to define molecular preprocessing workflow first, and then calculate descriptors."
   ]
  },
  {
   "cell_type": "markdown",
   "metadata": {},
   "source": [
    "## Cache mechanism\n",
    "\n",
    "You can cache the descriptors by calling the `setcache!` method.　Its second argument is a symbol of the method name, which must be a method defined following `Graph.@cachefirst` macro.\n",
    "\n",
    "`Graph.@cachefirst` macro first checks if the `GraphMol` given as a first argument of the method caches the result, and returns the cache if it exists, or returns the result of executing the method if it does not."
   ]
  },
  {
   "cell_type": "code",
   "execution_count": 4,
   "metadata": {
    "ExecuteTime": {
     "end_time": "2020-07-30T23:00:15.357000+09:00",
     "start_time": "2020-07-30T14:00:15.094Z"
    }
   },
   "outputs": [
    {
     "data": {
      "text/plain": [
       "Dict{Symbol, Any} with 1 entry:\n",
       "  :valence => Union{Nothing, Int64}[1, 4, 4, 4, 4, 4, 4, 3, 4, 4  …  4, 4, 4, 4…"
      ]
     },
     "execution_count": 4,
     "metadata": {},
     "output_type": "execute_result"
    }
   ],
   "source": [
    "mol2 = clone(mol)\n",
    "setcache!(mol2, :valence);\n",
    "mol2.cache"
   ]
  },
  {
   "cell_type": "code",
   "execution_count": 5,
   "metadata": {
    "ExecuteTime": {
     "end_time": "2020-07-30T23:00:27.035000+09:00",
     "start_time": "2020-07-30T14:00:20.622Z"
    }
   },
   "outputs": [
    {
     "data": {
      "text/plain": [
       "BenchmarkTools.Trial: 10000 samples with 1 evaluation.\n",
       " Range \u001b[90m(\u001b[39m\u001b[36m\u001b[1mmin\u001b[22m\u001b[39m … \u001b[35mmax\u001b[39m\u001b[90m):  \u001b[39m\u001b[36m\u001b[1m10.543 μs\u001b[22m\u001b[39m … \u001b[35m 2.595 ms\u001b[39m  \u001b[90m┊\u001b[39m GC \u001b[90m(\u001b[39mmin … max\u001b[90m): \u001b[39m0.00% … 99.48%\n",
       " Time  \u001b[90m(\u001b[39m\u001b[34m\u001b[1mmedian\u001b[22m\u001b[39m\u001b[90m):     \u001b[39m\u001b[34m\u001b[1m11.021 μs              \u001b[22m\u001b[39m\u001b[90m┊\u001b[39m GC \u001b[90m(\u001b[39mmedian\u001b[90m):    \u001b[39m0.00%\n",
       " Time  \u001b[90m(\u001b[39m\u001b[32m\u001b[1mmean\u001b[22m\u001b[39m ± \u001b[32mσ\u001b[39m\u001b[90m):   \u001b[39m\u001b[32m\u001b[1m11.493 μs\u001b[22m\u001b[39m ± \u001b[32m25.893 μs\u001b[39m  \u001b[90m┊\u001b[39m GC \u001b[90m(\u001b[39mmean ± σ\u001b[90m):  \u001b[39m2.25% ±  0.99%\n",
       "\n",
       "  \u001b[34m█\u001b[39m\u001b[39m \u001b[39m \u001b[39m \u001b[39m \u001b[39m \u001b[39m \u001b[39m \u001b[39m \u001b[39m \u001b[39m \u001b[39m \u001b[39m \u001b[39m \u001b[39m \u001b[39m \u001b[39m \u001b[39m \u001b[39m \u001b[39m \u001b[39m \u001b[39m \u001b[39m \u001b[39m \u001b[39m \u001b[39m \u001b[39m \u001b[39m \u001b[39m \u001b[39m \u001b[39m \u001b[39m \u001b[39m \u001b[39m \u001b[39m \u001b[39m \u001b[39m \u001b[39m \u001b[39m \u001b[39m \u001b[39m \u001b[39m \u001b[39m \u001b[39m \u001b[39m \u001b[39m \u001b[39m \u001b[39m \u001b[39m \u001b[39m \u001b[39m \u001b[39m \u001b[39m \u001b[39m \u001b[39m \u001b[39m \u001b[39m \u001b[39m \u001b[39m \u001b[39m \u001b[39m \n",
       "  \u001b[34m█\u001b[39m\u001b[39m▁\u001b[39m▁\u001b[39m▁\u001b[39m▁\u001b[39m▁\u001b[39m▁\u001b[39m▁\u001b[39m▁\u001b[39m▁\u001b[39m▁\u001b[39m▁\u001b[39m▁\u001b[39m▁\u001b[39m▁\u001b[39m▁\u001b[39m▁\u001b[39m▁\u001b[39m▁\u001b[39m▁\u001b[39m▁\u001b[39m▁\u001b[39m▁\u001b[39m▁\u001b[39m▁\u001b[39m▁\u001b[39m▁\u001b[39m▁\u001b[39m▁\u001b[39m▁\u001b[39m▁\u001b[39m▁\u001b[39m▁\u001b[39m▁\u001b[39m▁\u001b[39m▁\u001b[39m▁\u001b[39m▁\u001b[39m▁\u001b[39m▁\u001b[39m▁\u001b[39m▁\u001b[39m▁\u001b[39m▁\u001b[39m▁\u001b[39m▁\u001b[39m▁\u001b[39m▁\u001b[39m▁\u001b[39m▁\u001b[39m▁\u001b[39m▁\u001b[39m▁\u001b[39m▁\u001b[39m▁\u001b[39m▁\u001b[39m \u001b[39m▁\u001b[39m \u001b[39m \u001b[39m▁\n",
       "  35.4 μs\u001b[90m         Histogram: frequency by time\u001b[39m        10.9 μs \u001b[0m\u001b[1m<\u001b[22m\n",
       "\n",
       " Memory estimate\u001b[90m: \u001b[39m\u001b[33m7.27 KiB\u001b[39m, allocs estimate\u001b[90m: \u001b[39m\u001b[33m106\u001b[39m."
      ]
     },
     "execution_count": 5,
     "metadata": {},
     "output_type": "execute_result"
    }
   ],
   "source": [
    "@benchmark valence(mol)"
   ]
  },
  {
   "cell_type": "code",
   "execution_count": 6,
   "metadata": {
    "ExecuteTime": {
     "end_time": "2020-07-30T23:00:30.687000+09:00",
     "start_time": "2020-07-30T14:00:29.522Z"
    }
   },
   "outputs": [
    {
     "data": {
      "text/plain": [
       "BenchmarkTools.Trial: 10000 samples with 993 evaluations.\n",
       " Range \u001b[90m(\u001b[39m\u001b[36m\u001b[1mmin\u001b[22m\u001b[39m … \u001b[35mmax\u001b[39m\u001b[90m):  \u001b[39m\u001b[36m\u001b[1m35.309 ns\u001b[22m\u001b[39m … \u001b[35m303.739 ns\u001b[39m  \u001b[90m┊\u001b[39m GC \u001b[90m(\u001b[39mmin … max\u001b[90m): \u001b[39m0.00% … 0.00%\n",
       " Time  \u001b[90m(\u001b[39m\u001b[34m\u001b[1mmedian\u001b[22m\u001b[39m\u001b[90m):     \u001b[39m\u001b[34m\u001b[1m35.777 ns               \u001b[22m\u001b[39m\u001b[90m┊\u001b[39m GC \u001b[90m(\u001b[39mmedian\u001b[90m):    \u001b[39m0.00%\n",
       " Time  \u001b[90m(\u001b[39m\u001b[32m\u001b[1mmean\u001b[22m\u001b[39m ± \u001b[32mσ\u001b[39m\u001b[90m):   \u001b[39m\u001b[32m\u001b[1m36.708 ns\u001b[22m\u001b[39m ± \u001b[32m  6.441 ns\u001b[39m  \u001b[90m┊\u001b[39m GC \u001b[90m(\u001b[39mmean ± σ\u001b[90m):  \u001b[39m0.00% ± 0.00%\n",
       "\n",
       "  \u001b[34m█\u001b[39m\u001b[39m \u001b[39m \u001b[39m \u001b[39m \u001b[39m \u001b[39m \u001b[39m \u001b[39m \u001b[39m \u001b[39m \u001b[39m \u001b[39m \u001b[39m \u001b[39m \u001b[39m \u001b[39m \u001b[39m \u001b[39m \u001b[39m \u001b[39m \u001b[39m \u001b[39m \u001b[39m \u001b[39m \u001b[39m \u001b[39m \u001b[39m \u001b[39m \u001b[39m \u001b[39m \u001b[39m \u001b[39m \u001b[39m \u001b[39m \u001b[39m \u001b[39m \u001b[39m \u001b[39m \u001b[39m \u001b[39m \u001b[39m \u001b[39m \u001b[39m \u001b[39m \u001b[39m \u001b[39m \u001b[39m \u001b[39m \u001b[39m \u001b[39m \u001b[39m \u001b[39m \u001b[39m \u001b[39m \u001b[39m \u001b[39m \u001b[39m \u001b[39m \u001b[39m \u001b[39m \u001b[39m \n",
       "  \u001b[34m█\u001b[39m\u001b[39m▁\u001b[39m▁\u001b[39m▁\u001b[39m▁\u001b[39m▁\u001b[39m \u001b[39m▁\u001b[39m▁\u001b[39m▁\u001b[39m▁\u001b[39m▁\u001b[39m▁\u001b[39m▁\u001b[39m▁\u001b[39m▁\u001b[39m▁\u001b[39m▁\u001b[39m▁\u001b[39m▁\u001b[39m▁\u001b[39m▁\u001b[39m▁\u001b[39m▁\u001b[39m▁\u001b[39m▁\u001b[39m▁\u001b[39m▁\u001b[39m▁\u001b[39m▁\u001b[39m▁\u001b[39m▁\u001b[39m▁\u001b[39m▁\u001b[39m▁\u001b[39m▁\u001b[39m▁\u001b[39m▁\u001b[39m▁\u001b[39m▁\u001b[39m▁\u001b[39m▁\u001b[39m▁\u001b[39m▁\u001b[39m▁\u001b[39m▁\u001b[39m▁\u001b[39m▁\u001b[39m▁\u001b[39m▁\u001b[39m▁\u001b[39m▁\u001b[39m▁\u001b[39m▁\u001b[39m▁\u001b[39m▁\u001b[39m▁\u001b[39m \u001b[39m▁\u001b[39m▁\u001b[39m \u001b[39m▁\n",
       "  39.7 ns\u001b[90m         Histogram: frequency by time\u001b[39m         35.7 ns \u001b[0m\u001b[1m<\u001b[22m\n",
       "\n",
       " Memory estimate\u001b[90m: \u001b[39m\u001b[33m0 bytes\u001b[39m, allocs estimate\u001b[90m: \u001b[39m\u001b[33m0\u001b[39m."
      ]
     },
     "execution_count": 6,
     "metadata": {},
     "output_type": "execute_result"
    }
   ],
   "source": [
    "@benchmark valence(mol2)"
   ]
  },
  {
   "cell_type": "markdown",
   "metadata": {},
   "source": [
    "### Tips\n",
    "\n",
    "- Some descriptor function allows keyword arguments (e.g. `coordgen(mol; forcecoordgen=true)`). If keyword arguments are given explicitly, cache will not be used.\n",
    "- If the molecule object is modified (e.g. by preprocessing methods), you may want to recalculate and cache the result by calling the function with `setcache!` again.\n",
    "- `clearcache!(mol)` empties the cache dict.\n",
    "- `precalculate!(mol)` is a convenient method to cache several cost-effective descriptors together. It is recommended to run this method after loading and preprocessing the molecule."
   ]
  },
  {
   "cell_type": "code",
   "execution_count": 7,
   "metadata": {
    "ExecuteTime": {
     "end_time": "2020-07-30T23:00:35.948000+09:00",
     "start_time": "2020-07-30T14:00:35.942Z"
    }
   },
   "outputs": [
    {
     "data": {
      "text/plain": [
       "Dict{Symbol, Any}()"
      ]
     },
     "execution_count": 7,
     "metadata": {},
     "output_type": "execute_result"
    }
   ],
   "source": [
    "clearcache!(mol2)\n",
    "mol2.cache"
   ]
  },
  {
   "cell_type": "code",
   "execution_count": 8,
   "metadata": {
    "ExecuteTime": {
     "end_time": "2020-07-30T23:00:37.969000+09:00",
     "start_time": "2020-07-30T14:00:37.624Z"
    }
   },
   "outputs": [
    {
     "data": {
      "text/plain": [
       "Dict{Symbol, Any} with 7 entries:\n",
       "  :minimumcyclebasis => [[5, 6, 12, 13, 14, 15, 4], [23, 24, 25, 2, 3, 4], [18,…\n",
       "  :lonepair          => Union{Nothing, Int64}[3, 0, 0, 0, 0, 0, 0, 1, 0, 0  …  …\n",
       "  :coordgen          => ([202.23 -96.8; 158.81 -72.0; … ; 115.16 2.79; 158.57 -…\n",
       "  :sssr              => [[4, 14, 13, 12, 7, 6, 5], [4, 3, 2, 22, 21, 5], [15, 2…\n",
       "  :valence           => Union{Nothing, Int64}[1, 4, 4, 4, 4, 4, 4, 3, 4, 4  …  …\n",
       "  :apparentvalence   => [1, 4, 3, 4, 4, 4, 4, 3, 3, 3  …  2, 2, 4, 2, 2, 2, 2, …\n",
       "  :isaromaticring    => Bool[0, 1, 0, 1]"
      ]
     },
     "execution_count": 8,
     "metadata": {},
     "output_type": "execute_result"
    }
   ],
   "source": [
    "precalculate!(mol2)\n",
    "mol2.cache"
   ]
  },
  {
   "cell_type": "markdown",
   "metadata": {},
   "source": [
    "## Convention of descriptor functions\n",
    "\n",
    "For reproducibility, there is some important conventions for descriptor functions.\n",
    "\n",
    "- All descriptor functions take a GraphMol or SubgraphView as the only argument (optional keyword arguments are acceptable but caching will not work).\n",
    "- All descriptor functions never change the molecule object given as an argument.\n",
    "- All descriptor functions only refer the molecular graph and attributes, other descriptor arrays and global constants. Other external mutable objects are never refered from inside the function.\n",
    "- Return values of all descriptor functions must be in Julia built-in collection type (for serialization to JSON)"
   ]
  },
  {
   "cell_type": "markdown",
   "metadata": {
    "ExecuteTime": {
     "end_time": "2020-07-29T15:52:27.838000+09:00",
     "start_time": "2020-07-29T06:52:12.040Z"
    }
   },
   "source": [
    "## Frequently used descriptors\n",
    "\n",
    "\n",
    "`sssr(mol)`: smallest set of smallest rings (List of rings by node set)."
   ]
  },
  {
   "cell_type": "code",
   "execution_count": 9,
   "metadata": {
    "ExecuteTime": {
     "end_time": "2020-07-30T23:00:41.412000+09:00",
     "start_time": "2020-07-30T14:00:40.667Z"
    }
   },
   "outputs": [
    {
     "data": {
      "text/plain": [
       "4-element Vector{Vector{Int64}}:\n",
       " [4, 14, 13, 12, 7, 6, 5]\n",
       " [4, 3, 2, 22, 21, 5]\n",
       " [15, 20, 19, 18, 17, 16]\n",
       " [11, 10, 9, 8, 7, 12]"
      ]
     },
     "execution_count": 9,
     "metadata": {},
     "output_type": "execute_result"
    }
   ],
   "source": [
    "sssr(mol)"
   ]
  },
  {
   "cell_type": "markdown",
   "metadata": {},
   "source": [
    "`isringatom(mol)`: whether the atom is a member of ring"
   ]
  },
  {
   "cell_type": "code",
   "execution_count": 10,
   "metadata": {
    "ExecuteTime": {
     "end_time": "2020-07-30T23:00:44.137000+09:00",
     "start_time": "2020-07-30T14:00:43.825Z"
    }
   },
   "outputs": [
    {
     "name": "stdout",
     "output_type": "stream",
     "text": [
      "Bool[0, 1, 1, 1, 1, 1, 1, 1, 1, 1, 1, 1, 1, 1, 1, 1, 1, 1, 1, 1, 1, 1]"
     ]
    }
   ],
   "source": [
    "print(isringatom(mol))"
   ]
  },
  {
   "cell_type": "markdown",
   "metadata": {},
   "source": [
    "`isringbond(mol)`: whether the bond is a member of ring"
   ]
  },
  {
   "cell_type": "code",
   "execution_count": 11,
   "metadata": {
    "ExecuteTime": {
     "end_time": "2020-07-30T23:00:48.076000+09:00",
     "start_time": "2020-07-30T14:00:48.039Z"
    }
   },
   "outputs": [
    {
     "name": "stdout",
     "output_type": "stream",
     "text": [
      "Bool[0, 1, 1, 1, 1, 1, 1, 1, 1, 1, 1, 1, 1, 1, 1, 0, 1, 1, 1, 1, 1, 1, 1, 1, 1]"
     ]
    }
   ],
   "source": [
    "print(isringbond(mol))"
   ]
  },
  {
   "cell_type": "markdown",
   "metadata": {},
   "source": [
    "`fusedrings(mol)`: list of fused ring systems by node set"
   ]
  },
  {
   "cell_type": "code",
   "execution_count": 12,
   "metadata": {
    "ExecuteTime": {
     "end_time": "2020-07-30T23:00:51.431000+09:00",
     "start_time": "2020-07-30T14:00:50.307Z"
    }
   },
   "outputs": [
    {
     "data": {
      "text/plain": [
       "2-element Vector{Set{Int64}}:\n",
       " Set([5, 20, 7, 12, 8, 1, 4, 6, 13, 11, 21, 2, 9, 10, 3])\n",
       " Set([16, 15, 18, 14, 17, 19])"
      ]
     },
     "execution_count": 12,
     "metadata": {},
     "output_type": "execute_result"
    }
   ],
   "source": [
    "fusedrings(mol)"
   ]
  },
  {
   "cell_type": "markdown",
   "metadata": {},
   "source": [
    "`Graph.connectedcomponents(mol)`: list of connected components (molecules) by node set."
   ]
  },
  {
   "cell_type": "markdown",
   "metadata": {},
   "source": [
    "`ishacceptor(mol)`: whether the atom is a hydrogen acceptor or not (N, O or F with free lone pairs)"
   ]
  },
  {
   "cell_type": "code",
   "execution_count": 13,
   "metadata": {
    "ExecuteTime": {
     "end_time": "2020-07-30T23:00:55.939000+09:00",
     "start_time": "2020-07-30T14:00:55.767Z"
    }
   },
   "outputs": [
    {
     "name": "stdout",
     "output_type": "stream",
     "text": [
      "Bool[0, 0, 0, 0, 0, 0, 0, 1, 0, 0, 0, 0, 0, 0, 0, 0, 0, 1, 0, 0, 0, 0]"
     ]
    }
   ],
   "source": [
    "print(ishacceptor(mol))"
   ]
  },
  {
   "cell_type": "markdown",
   "metadata": {},
   "source": [
    "`ishdonor(mol)`: whether the atom is a hydrogen donor or not (N or O with hydrogens)"
   ]
  },
  {
   "cell_type": "code",
   "execution_count": 14,
   "metadata": {
    "ExecuteTime": {
     "end_time": "2020-07-30T23:00:58.152000+09:00",
     "start_time": "2020-07-30T14:00:57.996Z"
    }
   },
   "outputs": [
    {
     "name": "stdout",
     "output_type": "stream",
     "text": [
      "Bool[0, 0, 0, 0, 0, 0, 0, 0, 0, 0, 0, 0, 0, 0, 0, 0, 0, 1, 0, 0, 0, 0]"
     ]
    }
   ],
   "source": [
    "print(ishdonor(mol))"
   ]
  },
  {
   "cell_type": "markdown",
   "metadata": {
    "ExecuteTime": {
     "end_time": "2020-07-30T22:43:03.363000+09:00",
     "start_time": "2020-07-30T13:43:03.325Z"
    }
   },
   "source": [
    "`isrotatable(mol)`: whether the bond is rotatable or not"
   ]
  },
  {
   "cell_type": "code",
   "execution_count": 15,
   "metadata": {
    "ExecuteTime": {
     "end_time": "2020-07-30T23:01:00.646000+09:00",
     "start_time": "2020-07-30T14:01:00.480Z"
    }
   },
   "outputs": [
    {
     "name": "stdout",
     "output_type": "stream",
     "text": [
      "Bool[0, 0, 0, 0, 0, 0, 0, 0, 0, 0, 0, 0, 0, 0, 0, 0, 0, 0, 0, 0, 0, 0, 0, 0, 0]"
     ]
    }
   ],
   "source": [
    "print(isrotatable(mol))"
   ]
  },
  {
   "cell_type": "markdown",
   "metadata": {
    "ExecuteTime": {
     "end_time": "2020-07-30T22:44:58.467000+09:00",
     "start_time": "2020-07-30T13:44:58.465Z"
    }
   },
   "source": [
    "`hybridization(mol)`: hybridization of molecular orbitals"
   ]
  },
  {
   "cell_type": "code",
   "execution_count": 16,
   "metadata": {
    "ExecuteTime": {
     "end_time": "2020-07-30T23:01:03.709000+09:00",
     "start_time": "2020-07-30T14:01:02.528Z"
    }
   },
   "outputs": [
    {
     "name": "stdout",
     "output_type": "stream",
     "text": [
      "[:sp3, :sp2, :sp2, :sp2, :sp2, :sp2, :sp2, :sp2, :sp2, :sp2, :sp2, :sp2, :sp3, :sp3, :sp2, :sp3, :sp3, :sp3, :sp3, :sp3, :sp2, :sp2]"
     ]
    }
   ],
   "source": [
    "print(hybridization(mol))"
   ]
  },
  {
   "cell_type": "markdown",
   "metadata": {},
   "source": [
    "`isaromatic(mol)`: whether the atom is in aromatic ring"
   ]
  },
  {
   "cell_type": "code",
   "execution_count": 17,
   "metadata": {
    "ExecuteTime": {
     "end_time": "2020-07-30T23:01:05.700000+09:00",
     "start_time": "2020-07-30T14:01:05.281Z"
    }
   },
   "outputs": [
    {
     "name": "stdout",
     "output_type": "stream",
     "text": [
      "Bool[0, 1, 1, 1, 1, 0, 1, 1, 1, 1, 1, 1, 0, 0, 0, 0, 0, 0, 0, 0, 1, 1]"
     ]
    }
   ],
   "source": [
    "print(isaromatic(mol))"
   ]
  },
  {
   "cell_type": "markdown",
   "metadata": {},
   "source": [
    "`isaromaticbond(mol)`: whether the bond is in aromatic ring"
   ]
  },
  {
   "cell_type": "code",
   "execution_count": 18,
   "metadata": {
    "ExecuteTime": {
     "end_time": "2020-07-30T23:01:07.720000+09:00",
     "start_time": "2020-07-30T14:01:07.664Z"
    }
   },
   "outputs": [
    {
     "name": "stdout",
     "output_type": "stream",
     "text": [
      "Bool[0, 1, 1, 1, 0, 0, 1, 1, 1, 1, 1, 1, 0, 0, 0, 0, 0, 0, 0, 0, 0, 0, 1, 1, 1]"
     ]
    }
   ],
   "source": [
    "print(isaromaticbond(mol))"
   ]
  }
 ],
 "metadata": {
  "@webio": {
   "lastCommId": null,
   "lastKernelId": null
  },
  "jupytext": {
   "formats": "ipynb,md"
  },
  "kernelspec": {
   "display_name": "Julia 1.6.0",
   "language": "julia",
   "name": "julia-1.6"
  },
  "language_info": {
   "file_extension": ".jl",
   "mimetype": "application/julia",
   "name": "julia",
   "version": "1.6.0"
  }
 },
 "nbformat": 4,
 "nbformat_minor": 2
}
