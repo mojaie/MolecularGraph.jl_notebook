{
 "cells": [
  {
   "cell_type": "markdown",
   "metadata": {},
   "source": [
    "# Basics of molecular graph\n",
    "\n",
    "MolecularGraph.jl version: 0.10.0\n",
    "\n",
    "This tutorial includes following fundamental operations of molecular graph.\n",
    "\n",
    "- Concept of molecular object\n",
    "- Iterate over graph elements\n",
    "- Count atom nodes and bond edges\n",
    "- Neighbors/adjacencies/incidences\n",
    "- Edit molecular graph\n",
    "- Subgraph view"
   ]
  },
  {
   "cell_type": "code",
   "execution_count": 1,
   "metadata": {
    "ExecuteTime": {
     "end_time": "2020-07-30T14:57:54.008000+09:00",
     "start_time": "2020-07-30T05:57:48.603Z"
    },
    "scrolled": true
   },
   "outputs": [
    {
     "name": "stderr",
     "output_type": "stream",
     "text": [
      "\u001b[32m\u001b[1m  Activating\u001b[22m\u001b[39m environment at `~/Repository/MolecularGraph.jl_notebook/Project.toml`\n",
      "Path `../../MolecularGraph.jl` exists and looks like the correct package. Using existing path.\n",
      "\u001b[32m\u001b[1m   Resolving\u001b[22m\u001b[39m package versions...\n",
      "\u001b[32m\u001b[1m  No Changes\u001b[22m\u001b[39m to `~/Repository/MolecularGraph.jl_notebook/Project.toml`\n",
      "\u001b[32m\u001b[1m  No Changes\u001b[22m\u001b[39m to `~/Repository/MolecularGraph.jl_notebook/Manifest.toml`\n"
     ]
    }
   ],
   "source": [
    "using Pkg\n",
    "Pkg.activate(\"..\")\n",
    "using MolecularGraph"
   ]
  },
  {
   "cell_type": "code",
   "execution_count": 2,
   "metadata": {
    "ExecuteTime": {
     "end_time": "2020-07-30T14:59:31.653000+09:00",
     "start_time": "2020-07-30T05:59:24.345Z"
    }
   },
   "outputs": [
    {
     "data": {
      "image/svg+xml": [
       "<svg xmlns=\"http://www.w3.org/2000/svg\"\n",
       " xmlns:xlink=\"http://www.w3.org/1999/xlink\"\n",
       " version=\"1.2\" baseProfile=\"tiny\"\n",
       " text-rendering=\"geometricPrecision\"\n",
       " preserveAspectRatio=\"xMidYMid meet\"\n",
       " font-weight=\"normal\"\n",
       " font-family=\"Helvetica\"\n",
       " width=\"300\" height=\"300\"\n",
       " viewBox=\"0 0 250.72 215.25\">\n",
       "<rect x=\"0\" y=\"0\" width=\"250.72\" height=\"215.25\"\n",
       " fill=\"rgb(255, 255, 255)\" opacity=\"0.0\"/>\n",
       "<line x1=\"142.57\" y1=\"136.43\" x2=\"119.02\" y2=\"117.84\" stroke=\"rgb(0, 0, 0)\" /><line x1=\"119.02\" y1=\"117.84\" x2=\"125.55\" y2=\"88.56\" stroke=\"rgb(0, 0, 0)\" /><line x1=\"124.07\" y1=\"115.89\" x2=\"129.29\" y2=\"92.47\" stroke=\"rgb(0, 0, 0)\" /><line x1=\"145.25\" y1=\"36.09\" x2=\"152.98\" y2=\"43.19\" stroke=\"rgb(0, 0, 255)\" />\n",
       "<line x1=\"152.98\" y1=\"43.19\" x2=\"160.71\" y2=\"50.29\" stroke=\"rgb(0, 0, 0)\" />\n",
       "<line x1=\"76.92\" y1=\"151.74\" x2=\"89.81\" y2=\"124.65\" stroke=\"rgb(0, 0, 0)\" /><line x1=\"168.48\" y1=\"121.31\" x2=\"194.52\" y2=\"136.19\" stroke=\"rgb(0, 0, 0)\" /><line x1=\"63.82\" y1=\"100.66\" x2=\"53.36\" y2=\"101.50\" stroke=\"rgb(0, 0, 255)\" />\n",
       "<line x1=\"53.36\" y1=\"101.50\" x2=\"42.89\" y2=\"102.33\" stroke=\"rgb(0, 0, 0)\" />\n",
       "<line x1=\"125.55\" y1=\"88.56\" x2=\"103.46\" y2=\"68.26\" stroke=\"rgb(0, 0, 0)\" /><line x1=\"212.90\" y1=\"176.60\" x2=\"203.79\" y2=\"171.39\" stroke=\"rgb(64, 192, 64)\" />\n",
       "<line x1=\"203.79\" y1=\"171.39\" x2=\"194.67\" y2=\"166.18\" stroke=\"rgb(0, 0, 0)\" />\n",
       "<line x1=\"110.00\" y1=\"38.98\" x2=\"120.02\" y2=\"35.84\" stroke=\"rgb(0, 0, 0)\" />\n",
       "<line x1=\"120.02\" y1=\"35.84\" x2=\"130.04\" y2=\"32.69\" stroke=\"rgb(0, 0, 255)\" />\n",
       "<line x1=\"154.18\" y1=\"79.58\" x2=\"125.55\" y2=\"88.56\" stroke=\"rgb(0, 0, 0)\" /><line x1=\"142.57\" y1=\"136.43\" x2=\"168.48\" y2=\"121.31\" stroke=\"rgb(0, 0, 0)\" /><line x1=\"147.43\" y1=\"138.81\" x2=\"168.16\" y2=\"126.71\" stroke=\"rgb(0, 0, 0)\" /><line x1=\"119.02\" y1=\"117.84\" x2=\"89.81\" y2=\"124.65\" stroke=\"rgb(0, 0, 0)\" /><line x1=\"47.02\" y1=\"154.13\" x2=\"76.92\" y2=\"151.74\" stroke=\"rgb(0, 0, 0)\" /><line x1=\"49.65\" y1=\"149.40\" x2=\"73.57\" y2=\"147.50\" stroke=\"rgb(0, 0, 0)\" /><line x1=\"42.89\" y1=\"102.33\" x2=\"30.00\" y2=\"129.42\" stroke=\"rgb(0, 0, 0)\" /><line x1=\"45.67\" y1=\"106.97\" x2=\"35.35\" y2=\"128.64\" stroke=\"rgb(0, 0, 0)\" /><line x1=\"90.07\" y1=\"178.71\" x2=\"119.34\" y2=\"185.25\" stroke=\"rgb(0, 0, 0)\" /><line x1=\"168.76\" y1=\"181.30\" x2=\"142.71\" y2=\"166.43\" stroke=\"rgb(0, 0, 0)\" /><line x1=\"168.39\" y1=\"175.90\" x2=\"147.55\" y2=\"164.01\" stroke=\"rgb(0, 0, 0)\" /><line x1=\"89.81\" y1=\"124.65\" x2=\"83.86\" y2=\"116.01\" stroke=\"rgb(0, 0, 0)\" />\n",
       "<line x1=\"83.86\" y1=\"116.01\" x2=\"77.90\" y2=\"107.36\" stroke=\"rgb(0, 0, 255)\" />\n",
       "<line x1=\"84.92\" y1=\"125.48\" x2=\"80.15\" y2=\"118.56\" stroke=\"rgb(0, 0, 0)\" />\n",
       "<line x1=\"80.15\" y1=\"118.56\" x2=\"75.38\" y2=\"111.64\" stroke=\"rgb(0, 0, 255)\" />\n",
       "<line x1=\"194.52\" y1=\"136.19\" x2=\"194.67\" y2=\"166.18\" stroke=\"rgb(0, 0, 0)\" /><line x1=\"190.04\" y1=\"139.21\" x2=\"190.15\" y2=\"163.20\" stroke=\"rgb(0, 0, 0)\" /><line x1=\"142.71\" y1=\"166.43\" x2=\"142.57\" y2=\"136.43\" stroke=\"rgb(0, 0, 0)\" /><line x1=\"76.92\" y1=\"151.74\" x2=\"90.07\" y2=\"178.71\" stroke=\"rgb(0, 0, 0)\" /><line x1=\"119.34\" y1=\"185.25\" x2=\"142.71\" y2=\"166.43\" stroke=\"rgb(0, 0, 0)\" /><line x1=\"194.67\" y1=\"166.18\" x2=\"168.76\" y2=\"181.30\" stroke=\"rgb(0, 0, 0)\" /><line x1=\"30.00\" y1=\"129.42\" x2=\"47.02\" y2=\"154.13\" stroke=\"rgb(0, 0, 0)\" /><line x1=\"103.46\" y1=\"68.26\" x2=\"110.00\" y2=\"38.98\" stroke=\"rgb(0, 0, 0)\" /><line x1=\"160.71\" y1=\"50.29\" x2=\"154.18\" y2=\"79.58\" stroke=\"rgb(0, 0, 0)\" /><text x=\"72.79\" y=\"106.95\" font-size=\"14.0\"\n",
       " fill=\"rgb(0, 0, 255)\" text-anchor=\"middle\" >N</text>\n",
       "<text x=\"220.72\" y=\"188.06\" font-size=\"14.0\"\n",
       " fill=\"rgb(64, 192, 64)\" text-anchor=\"middle\" >Cl</text>\n",
       "<text x=\"138.62\" y=\"37.00\" font-size=\"14.0\"\n",
       " fill=\"rgb(0, 0, 255)\" text-anchor=\"middle\" >NH</text>\n",
       "<g>\n",
       " <rect x=\"142.57\" y=\"136.43\" width=\"10\" height=\"10\" rx=\"5.0\" ry=\"5.0\" fill=\"rgb(240, 240, 255)\" />\n",
       " <text x=\"142.57\" y=\"146.43\" font-size=\"10\" fill=\"rgb(0, 0, 0)\">5</text>\n",
       "</g>\n",
       "<g>\n",
       " <rect x=\"103.46\" y=\"68.26\" width=\"10\" height=\"10\" rx=\"5.0\" ry=\"5.0\" fill=\"rgb(240, 240, 255)\" />\n",
       " <text x=\"103.46\" y=\"78.26\" font-size=\"10\" fill=\"rgb(0, 0, 0)\">16</text>\n",
       "</g>\n",
       "<g>\n",
       " <rect x=\"154.18\" y=\"79.58\" width=\"10\" height=\"10\" rx=\"5.0\" ry=\"5.0\" fill=\"rgb(240, 240, 255)\" />\n",
       " <text x=\"154.18\" y=\"89.58\" font-size=\"10\" fill=\"rgb(0, 0, 0)\">20</text>\n",
       "</g>\n",
       "<g>\n",
       " <rect x=\"76.92\" y=\"151.74\" width=\"10\" height=\"10\" rx=\"5.0\" ry=\"5.0\" fill=\"rgb(240, 240, 255)\" />\n",
       " <text x=\"76.92\" y=\"161.74\" font-size=\"10\" fill=\"rgb(0, 0, 0)\">12</text>\n",
       "</g>\n",
       "<g>\n",
       " <rect x=\"72.79\" y=\"106.95\" width=\"10\" height=\"10\" rx=\"5.0\" ry=\"5.0\" fill=\"rgb(240, 240, 255)\" />\n",
       " <text x=\"72.79\" y=\"116.95\" font-size=\"10\" fill=\"rgb(0, 0, 0)\">8</text>\n",
       "</g>\n",
       "<g>\n",
       " <rect x=\"110.00\" y=\"38.98\" width=\"10\" height=\"10\" rx=\"5.0\" ry=\"5.0\" fill=\"rgb(240, 240, 255)\" />\n",
       " <text x=\"110.00\" y=\"48.98\" font-size=\"10\" fill=\"rgb(0, 0, 0)\">17</text>\n",
       "</g>\n",
       "<g>\n",
       " <rect x=\"220.72\" y=\"188.06\" width=\"10\" height=\"10\" rx=\"5.0\" ry=\"5.0\" fill=\"rgb(240, 240, 255)\" />\n",
       " <text x=\"220.72\" y=\"198.06\" font-size=\"10\" fill=\"rgb(0, 0, 0)\">1</text>\n",
       "</g>\n",
       "<g>\n",
       " <rect x=\"160.71\" y=\"50.29\" width=\"10\" height=\"10\" rx=\"5.0\" ry=\"5.0\" fill=\"rgb(240, 240, 255)\" />\n",
       " <text x=\"160.71\" y=\"60.29\" font-size=\"10\" fill=\"rgb(0, 0, 0)\">19</text>\n",
       "</g>\n",
       "<g>\n",
       " <rect x=\"194.52\" y=\"136.19\" width=\"10\" height=\"10\" rx=\"5.0\" ry=\"5.0\" fill=\"rgb(240, 240, 255)\" />\n",
       " <text x=\"194.52\" y=\"146.19\" font-size=\"10\" fill=\"rgb(0, 0, 0)\">22</text>\n",
       "</g>\n",
       "<g>\n",
       " <rect x=\"119.02\" y=\"117.84\" width=\"10\" height=\"10\" rx=\"5.0\" ry=\"5.0\" fill=\"rgb(240, 240, 255)\" />\n",
       " <text x=\"119.02\" y=\"127.84\" font-size=\"10\" fill=\"rgb(0, 0, 0)\">6</text>\n",
       "</g>\n",
       "<g>\n",
       " <rect x=\"47.02\" y=\"154.13\" width=\"10\" height=\"10\" rx=\"5.0\" ry=\"5.0\" fill=\"rgb(240, 240, 255)\" />\n",
       " <text x=\"47.02\" y=\"164.13\" font-size=\"10\" fill=\"rgb(0, 0, 0)\">11</text>\n",
       "</g>\n",
       "<g>\n",
       " <rect x=\"42.89\" y=\"102.33\" width=\"10\" height=\"10\" rx=\"5.0\" ry=\"5.0\" fill=\"rgb(240, 240, 255)\" />\n",
       " <text x=\"42.89\" y=\"112.33\" font-size=\"10\" fill=\"rgb(0, 0, 0)\">9</text>\n",
       "</g>\n",
       "<g>\n",
       " <rect x=\"119.34\" y=\"185.25\" width=\"10\" height=\"10\" rx=\"5.0\" ry=\"5.0\" fill=\"rgb(240, 240, 255)\" />\n",
       " <text x=\"119.34\" y=\"195.25\" font-size=\"10\" fill=\"rgb(0, 0, 0)\">14</text>\n",
       "</g>\n",
       "<g>\n",
       " <rect x=\"168.76\" y=\"181.30\" width=\"10\" height=\"10\" rx=\"5.0\" ry=\"5.0\" fill=\"rgb(240, 240, 255)\" />\n",
       " <text x=\"168.76\" y=\"191.30\" font-size=\"10\" fill=\"rgb(0, 0, 0)\">3</text>\n",
       "</g>\n",
       "<g>\n",
       " <rect x=\"89.81\" y=\"124.65\" width=\"10\" height=\"10\" rx=\"5.0\" ry=\"5.0\" fill=\"rgb(240, 240, 255)\" />\n",
       " <text x=\"89.81\" y=\"134.65\" font-size=\"10\" fill=\"rgb(0, 0, 0)\">7</text>\n",
       "</g>\n",
       "<g>\n",
       " <rect x=\"142.71\" y=\"166.43\" width=\"10\" height=\"10\" rx=\"5.0\" ry=\"5.0\" fill=\"rgb(240, 240, 255)\" />\n",
       " <text x=\"142.71\" y=\"176.43\" font-size=\"10\" fill=\"rgb(0, 0, 0)\">4</text>\n",
       "</g>\n",
       "<g>\n",
       " <rect x=\"90.07\" y=\"178.71\" width=\"10\" height=\"10\" rx=\"5.0\" ry=\"5.0\" fill=\"rgb(240, 240, 255)\" />\n",
       " <text x=\"90.07\" y=\"188.71\" font-size=\"10\" fill=\"rgb(0, 0, 0)\">13</text>\n",
       "</g>\n",
       "<g>\n",
       " <rect x=\"125.55\" y=\"88.56\" width=\"10\" height=\"10\" rx=\"5.0\" ry=\"5.0\" fill=\"rgb(240, 240, 255)\" />\n",
       " <text x=\"125.55\" y=\"98.56\" font-size=\"10\" fill=\"rgb(0, 0, 0)\">15</text>\n",
       "</g>\n",
       "<g>\n",
       " <rect x=\"194.67\" y=\"166.18\" width=\"10\" height=\"10\" rx=\"5.0\" ry=\"5.0\" fill=\"rgb(240, 240, 255)\" />\n",
       " <text x=\"194.67\" y=\"176.18\" font-size=\"10\" fill=\"rgb(0, 0, 0)\">2</text>\n",
       "</g>\n",
       "<g>\n",
       " <rect x=\"30.00\" y=\"129.42\" width=\"10\" height=\"10\" rx=\"5.0\" ry=\"5.0\" fill=\"rgb(240, 240, 255)\" />\n",
       " <text x=\"30.00\" y=\"139.42\" font-size=\"10\" fill=\"rgb(0, 0, 0)\">10</text>\n",
       "</g>\n",
       "<g>\n",
       " <rect x=\"138.62\" y=\"37.00\" width=\"10\" height=\"10\" rx=\"5.0\" ry=\"5.0\" fill=\"rgb(240, 240, 255)\" />\n",
       " <text x=\"138.62\" y=\"47.00\" font-size=\"10\" fill=\"rgb(0, 0, 0)\">18</text>\n",
       "</g>\n",
       "<g>\n",
       " <rect x=\"168.48\" y=\"121.31\" width=\"10\" height=\"10\" rx=\"5.0\" ry=\"5.0\" fill=\"rgb(240, 240, 255)\" />\n",
       " <text x=\"168.48\" y=\"131.31\" font-size=\"10\" fill=\"rgb(0, 0, 0)\">21</text>\n",
       "</g>\n",
       "</svg>\n"
      ]
     },
     "metadata": {},
     "output_type": "display_data"
    }
   ],
   "source": [
    "# Demo molecule with atom indices\n",
    "mol = smilestomol(\"Clc4cc2c(C(/c1ncccc1CC2)=C3/CCNCC3)cc4\")\n",
    "canvas = SvgCanvas()\n",
    "draw2d!(canvas, mol)\n",
    "drawatomindex!(canvas, mol)\n",
    "molsvg = tosvg(canvas, 300, 300)\n",
    "display(\"image/svg+xml\",  molsvg)"
   ]
  },
  {
   "cell_type": "markdown",
   "metadata": {},
   "source": [
    "## Concept of molecule object\n",
    "\n",
    "`GraphMol{Atom,Bond}` is a general purpose molecule type often used in MolecularGraph.jl. You can find the definition of it in `src/model/molgraph.jl`\n",
    "\n",
    "```julia\n",
    "struct GraphMol{A<:Atom,B<:Bond} <: OrderedGraph\n",
    "    neighbormap::Vector{Dict{Int,Int}}\n",
    "    edges::Vector{Tuple{Int,Int}}\n",
    "    nodeattrs::Vector{A}\n",
    "    edgeattrs::Vector{B}\n",
    "    cache::Dict{Symbol,Any}\n",
    "    attributes::Dict{Symbol,Any}\n",
    "end\n",
    "```\n",
    "\n",
    "GraphMol is a simple graph model with molecule attributes. The graph is represented by `neighbormap` field (size N vector of adjacency dict {edge => node}) and `edges` field (size E vector of tuples (node1, node2)), where N is the number of nodes and E is the number of edges. This model assumes node and edge indices are consecutive, so implicitly indices of `neighbormap`and `edges` vectors correspond to node and edge indices, respectively.\n",
    "\n",
    "`nodeattrs` field is a size N vector of node attibute objects that have subtype of `Atom`. `Atom` is typically immutable and have atom property values such as atom symbol, charge number, mass number, and etc.\n",
    "\n",
    "`edgeattrs` fiels is a size E vector of edge attiblute objects that have subtype of `Bond`. `Bond` is also typically immutable and have bond property values such as bond order number and stereochemistry flags.\n",
    "\n",
    "`cache` is caches of calculated descriptors described later.\n",
    "`attributes` is attributes of the molecule itself. Typically, SDFile optional fields like `> <compound_name>` will be stored in this field."
   ]
  },
  {
   "cell_type": "markdown",
   "metadata": {},
   "source": [
    "## Iterate over graph elements\n",
    "\n",
    "Calling `GraphMol.nodeattrs` and `GraphMol.edgeattrs` directly is not recommended. Use `nodeattrs(mol)` and `edgeattrs(mol)` interfaces to iterate over elements.\n",
    "\n",
    "Most of graph related functions are in `Graph` submodule. You can write `using MolecularGraph.Graph` to call these functions conveniently."
   ]
  },
  {
   "cell_type": "code",
   "execution_count": 3,
   "metadata": {
    "ExecuteTime": {
     "end_time": "2020-07-30T14:59:38.957000+09:00",
     "start_time": "2020-07-30T05:59:38.721Z"
    }
   },
   "outputs": [
    {
     "name": "stdout",
     "output_type": "stream",
     "text": [
      "Atoms:\n",
      "(1, Cl), (2, C), (3, C), (4, C), (5, C), (6, C), (7, C), (8, N), (9, C), (10, C), (11, C), (12, C), (13, C), (14, C), (15, C), (16, C), (17, C), (18, N), (19, C), (20, C), (21, C), (22, C), \n",
      "Bonds:\n",
      "(1, 1), (2, 1), (3, 2), (4, 1), (5, 1), (6, 1), (7, 2), (8, 1), (9, 2), (10, 1), (11, 2), (12, 1), (13, 1), (14, 1), (15, 1), (16, 2), (17, 1), (18, 1), (19, 1), (20, 1), (21, 1), (22, 1), (23, 2), (24, 1), (25, 2), "
     ]
    }
   ],
   "source": [
    "using MolecularGraph.Graph\n",
    "\n",
    "println(\"Atoms:\")\n",
    "for (i, atom) in enumerate(nodeattrs(mol))\n",
    "    print(\"($(i), $(atom.symbol)), \")\n",
    "end\n",
    "println()\n",
    "println(\"Bonds:\")\n",
    "for (i, bond) in enumerate(edgeattrs(mol))\n",
    "    print(\"($(i), $(bond.order)), \")\n",
    "end"
   ]
  },
  {
   "cell_type": "markdown",
   "metadata": {},
   "source": [
    "## Count atom nodes and bond edges\n",
    "\n",
    "`Graph.nodecount` and `Graph.edgecount` counts the number of graph elements. Note that these do not include atoms not described in the graph (e.g. Implicit hydrogen)."
   ]
  },
  {
   "cell_type": "code",
   "execution_count": 4,
   "metadata": {
    "ExecuteTime": {
     "end_time": "2020-07-30T14:59:41.796000+09:00",
     "start_time": "2020-07-30T05:59:41.785Z"
    }
   },
   "outputs": [
    {
     "name": "stdout",
     "output_type": "stream",
     "text": [
      "Nodes: 22\n",
      "Edges: 25\n"
     ]
    }
   ],
   "source": [
    "ncnt = nodecount(mol)\n",
    "ecnt = edgecount(mol)\n",
    "println(\"Nodes: $(ncnt)\")\n",
    "println(\"Edges: $(ecnt)\")"
   ]
  },
  {
   "cell_type": "markdown",
   "metadata": {},
   "source": [
    "##  Neighbors/adjacencies/incidences\n",
    "\n",
    "`neighbors(mol, atom1)` returns dict of (`edge` => `atom2`) that means `atom2` is connected to `atom1` through `edge`. This is just an aliase of `mol.neighbormap[atom1]` indeed.\n",
    "\n",
    "`adjacencies(mol, atom1)` returns a set of adjacent (= connected by edge) nodes.  `incidences(mol, atom2)` returns a set of incident (= connecting) edges. These methods generate new sets, therefore are safe for destructive operations like `setdiff!` but a bit more costful than `neighbors`."
   ]
  },
  {
   "cell_type": "code",
   "execution_count": 5,
   "metadata": {
    "ExecuteTime": {
     "end_time": "2020-07-30T14:59:45.274000+09:00",
     "start_time": "2020-07-30T05:59:44.467Z"
    }
   },
   "outputs": [
    {
     "data": {
      "text/plain": [
       "Dict{Int64, Int64} with 3 entries:\n",
       "  2  => 3\n",
       "  25 => 22\n",
       "  1  => 1"
      ]
     },
     "execution_count": 5,
     "metadata": {},
     "output_type": "execute_result"
    }
   ],
   "source": [
    "neighbors(mol, 2)"
   ]
  },
  {
   "cell_type": "code",
   "execution_count": 6,
   "metadata": {
    "ExecuteTime": {
     "end_time": "2020-07-30T14:59:47.271000+09:00",
     "start_time": "2020-07-30T05:59:46.979Z"
    }
   },
   "outputs": [
    {
     "data": {
      "text/plain": [
       "Set{Int64} with 3 elements:\n",
       "  22\n",
       "  3\n",
       "  1"
      ]
     },
     "execution_count": 6,
     "metadata": {},
     "output_type": "execute_result"
    }
   ],
   "source": [
    "adjacencies(mol, 2)"
   ]
  },
  {
   "cell_type": "code",
   "execution_count": 7,
   "metadata": {
    "ExecuteTime": {
     "end_time": "2020-07-30T14:59:49.332000+09:00",
     "start_time": "2020-07-30T05:59:49.328Z"
    }
   },
   "outputs": [
    {
     "data": {
      "text/plain": [
       "Set{Int64} with 3 elements:\n",
       "  2\n",
       "  25\n",
       "  1"
      ]
     },
     "execution_count": 7,
     "metadata": {},
     "output_type": "execute_result"
    }
   ],
   "source": [
    "incidences(mol, 2)"
   ]
  },
  {
   "cell_type": "markdown",
   "metadata": {},
   "source": [
    "## Edit molecular graph\n",
    "\n",
    "In MolecularGraph.jl, methods to edit molecules manually are often less accessible intentionally. These method can change molecule objects unexpectedly and will cause serious adverce effect that can affect consistency and reproducibility of your analysis workflow.\n",
    "\n",
    "In many cases, following alternative methods would suffice.\n",
    "\n",
    "- Methods in `src/preprocessing.jl`for general cheminformatics operations (see Preprocessing tutorial)\n",
    "    - `removehydrogens`/`addhydrogens` -> deal with implicit/explicit hydrogens\n",
    "    - `extractlargestcomponent` -> desaltation and dehydration\n",
    "    - Standardization of notation in protonation and resonance structure\n",
    "- Extract substructures by `nodesubgraph` and `edgesubgraph` described below\n",
    "\n",
    "### Graph topology\n",
    "\n",
    "There are some methods that directly manipulate graph topology in the graph interface API (e.g. `addnode!`, `addedge!`, `unlinknodes` and `unlinkedges`), but are not recommended to use because insertion and deletion of graph elements are computationally expensive in our molecular graph model based on vectors.\n",
    "\n",
    "### Attributes of graph elements\n",
    "\n",
    "Note that types belongs to `Atom` and `Bond` are typically immutable. There are some methods to edit attributes like `setcharge(atom)` and `setorder(bond)` that actually do not change the objects themselves but return new Atom and Bond with attributes editted. \n",
    "\n",
    "`setnodeattr!(mol, i, atom)` and `setedgeattr!(mol, i, edge)` are interfaces to replace the attribute object at the position i of `mol.nodeattr`/`mol.edgeattr` by the new atom/edge.\n",
    "\n",
    "Accordingly, code to edit an atom attribute would be like as shown below."
   ]
  },
  {
   "cell_type": "code",
   "execution_count": 8,
   "metadata": {
    "ExecuteTime": {
     "end_time": "2020-07-30T14:59:54.890000+09:00",
     "start_time": "2020-07-30T05:59:54.772Z"
    }
   },
   "outputs": [
    {
     "data": {
      "image/svg+xml": [
       "<svg xmlns=\"http://www.w3.org/2000/svg\"\n",
       " xmlns:xlink=\"http://www.w3.org/1999/xlink\"\n",
       " version=\"1.2\" baseProfile=\"tiny\"\n",
       " text-rendering=\"geometricPrecision\"\n",
       " preserveAspectRatio=\"xMidYMid meet\"\n",
       " font-weight=\"normal\"\n",
       " font-family=\"Helvetica\"\n",
       " width=\"300\" height=\"300\"\n",
       " viewBox=\"0 0 250.72 215.25\">\n",
       "<rect x=\"0\" y=\"0\" width=\"250.72\" height=\"215.25\"\n",
       " fill=\"rgb(255, 255, 255)\" opacity=\"0.0\"/>\n",
       "<line x1=\"142.57\" y1=\"136.43\" x2=\"119.02\" y2=\"117.84\" stroke=\"rgb(0, 0, 0)\" /><line x1=\"119.02\" y1=\"117.84\" x2=\"125.55\" y2=\"88.56\" stroke=\"rgb(0, 0, 0)\" /><line x1=\"124.07\" y1=\"115.89\" x2=\"129.29\" y2=\"92.47\" stroke=\"rgb(0, 0, 0)\" /><line x1=\"145.25\" y1=\"36.09\" x2=\"152.98\" y2=\"43.19\" stroke=\"rgb(0, 0, 255)\" />\n",
       "<line x1=\"152.98\" y1=\"43.19\" x2=\"160.71\" y2=\"50.29\" stroke=\"rgb(0, 0, 0)\" />\n",
       "<line x1=\"76.92\" y1=\"151.74\" x2=\"89.81\" y2=\"124.65\" stroke=\"rgb(0, 0, 0)\" /><line x1=\"168.48\" y1=\"121.31\" x2=\"194.52\" y2=\"136.19\" stroke=\"rgb(0, 0, 0)\" /><line x1=\"63.82\" y1=\"100.66\" x2=\"53.36\" y2=\"101.50\" stroke=\"rgb(0, 0, 255)\" />\n",
       "<line x1=\"53.36\" y1=\"101.50\" x2=\"42.89\" y2=\"102.33\" stroke=\"rgb(0, 0, 0)\" />\n",
       "<line x1=\"125.55\" y1=\"88.56\" x2=\"103.46\" y2=\"68.26\" stroke=\"rgb(0, 0, 0)\" /><line x1=\"212.90\" y1=\"176.60\" x2=\"203.79\" y2=\"171.39\" stroke=\"rgb(64, 192, 64)\" />\n",
       "<line x1=\"203.79\" y1=\"171.39\" x2=\"194.67\" y2=\"166.18\" stroke=\"rgb(0, 0, 0)\" />\n",
       "<line x1=\"110.00\" y1=\"38.98\" x2=\"120.02\" y2=\"35.84\" stroke=\"rgb(0, 0, 0)\" />\n",
       "<line x1=\"120.02\" y1=\"35.84\" x2=\"130.04\" y2=\"32.69\" stroke=\"rgb(0, 0, 255)\" />\n",
       "<line x1=\"154.18\" y1=\"79.58\" x2=\"125.55\" y2=\"88.56\" stroke=\"rgb(0, 0, 0)\" /><line x1=\"142.57\" y1=\"136.43\" x2=\"168.48\" y2=\"121.31\" stroke=\"rgb(0, 0, 0)\" /><line x1=\"147.43\" y1=\"138.81\" x2=\"168.16\" y2=\"126.71\" stroke=\"rgb(0, 0, 0)\" /><line x1=\"119.02\" y1=\"117.84\" x2=\"89.81\" y2=\"124.65\" stroke=\"rgb(0, 0, 0)\" /><line x1=\"47.02\" y1=\"154.13\" x2=\"76.92\" y2=\"151.74\" stroke=\"rgb(0, 0, 0)\" /><line x1=\"49.65\" y1=\"149.40\" x2=\"73.57\" y2=\"147.50\" stroke=\"rgb(0, 0, 0)\" /><line x1=\"42.89\" y1=\"102.33\" x2=\"30.00\" y2=\"129.42\" stroke=\"rgb(0, 0, 0)\" /><line x1=\"45.67\" y1=\"106.97\" x2=\"35.35\" y2=\"128.64\" stroke=\"rgb(0, 0, 0)\" /><line x1=\"90.07\" y1=\"178.71\" x2=\"119.34\" y2=\"185.25\" stroke=\"rgb(0, 0, 0)\" /><line x1=\"168.76\" y1=\"181.30\" x2=\"142.71\" y2=\"166.43\" stroke=\"rgb(0, 0, 0)\" /><line x1=\"168.39\" y1=\"175.90\" x2=\"147.55\" y2=\"164.01\" stroke=\"rgb(0, 0, 0)\" /><line x1=\"89.81\" y1=\"124.65\" x2=\"83.86\" y2=\"116.01\" stroke=\"rgb(0, 0, 0)\" />\n",
       "<line x1=\"83.86\" y1=\"116.01\" x2=\"77.90\" y2=\"107.36\" stroke=\"rgb(0, 0, 255)\" />\n",
       "<line x1=\"84.92\" y1=\"125.48\" x2=\"80.15\" y2=\"118.56\" stroke=\"rgb(0, 0, 0)\" />\n",
       "<line x1=\"80.15\" y1=\"118.56\" x2=\"75.38\" y2=\"111.64\" stroke=\"rgb(0, 0, 255)\" />\n",
       "<line x1=\"194.52\" y1=\"136.19\" x2=\"194.67\" y2=\"166.18\" stroke=\"rgb(0, 0, 0)\" /><line x1=\"190.04\" y1=\"139.21\" x2=\"190.15\" y2=\"163.20\" stroke=\"rgb(0, 0, 0)\" /><line x1=\"142.71\" y1=\"166.43\" x2=\"142.57\" y2=\"136.43\" stroke=\"rgb(0, 0, 0)\" /><line x1=\"76.92\" y1=\"151.74\" x2=\"90.07\" y2=\"178.71\" stroke=\"rgb(0, 0, 0)\" /><line x1=\"119.34\" y1=\"185.25\" x2=\"142.71\" y2=\"166.43\" stroke=\"rgb(0, 0, 0)\" /><line x1=\"194.67\" y1=\"166.18\" x2=\"168.76\" y2=\"181.30\" stroke=\"rgb(0, 0, 0)\" /><line x1=\"30.00\" y1=\"129.42\" x2=\"47.02\" y2=\"154.13\" stroke=\"rgb(0, 0, 0)\" /><line x1=\"103.46\" y1=\"68.26\" x2=\"110.00\" y2=\"38.98\" stroke=\"rgb(0, 0, 0)\" /><line x1=\"160.71\" y1=\"50.29\" x2=\"154.18\" y2=\"79.58\" stroke=\"rgb(0, 0, 0)\" /><text x=\"72.79\" y=\"106.95\" font-size=\"14.0\"\n",
       " fill=\"rgb(0, 0, 255)\" text-anchor=\"middle\" >NH<tspan baseline-shift=\"50%\" font-size=\"10\">+</tspan></text>\n",
       "<text x=\"220.72\" y=\"188.06\" font-size=\"14.0\"\n",
       " fill=\"rgb(64, 192, 64)\" text-anchor=\"middle\" >Cl</text>\n",
       "<text x=\"138.62\" y=\"37.00\" font-size=\"14.0\"\n",
       " fill=\"rgb(0, 0, 255)\" text-anchor=\"middle\" >NH</text>\n",
       "</svg>\n"
      ]
     },
     "metadata": {},
     "output_type": "display_data"
    }
   ],
   "source": [
    "mol2 = clone(mol)  # I want to use the original mol later\n",
    "newatom = setcharge(nodeattr(mol2, 8), 1)\n",
    "setnodeattr!(mol2, 8, newatom)\n",
    "molsvg = drawsvg(mol2, 300, 300)\n",
    "display(\"image/svg+xml\",  molsvg)"
   ]
  },
  {
   "cell_type": "markdown",
   "metadata": {},
   "source": [
    "## Subgraph view\n",
    "\n",
    "`SubgraphView` consists of the original graph, node set and edge set, and behaves as almost same as `GraphMol ` object that is substructure of the original graph derived from the node and edge sets.\n",
    "\n",
    "`nodesubgraph(mol, nodeset)` returns `SubgraphView` object that represents node-induced substructure of `mol` induced from `nodeset`. `edgesubgraph(mol, edgeset)` returns edge-induced `SubgraphView` similarily.\n",
    "\n",
    "As SubgraphView refers molecule attributes and calculated descriptors of the original molecule, many descriptor calculation methods (and even structure drawing) can be applied to it without problems."
   ]
  },
  {
   "cell_type": "code",
   "execution_count": 9,
   "metadata": {
    "ExecuteTime": {
     "end_time": "2020-07-30T15:00:01.473000+09:00",
     "start_time": "2020-07-30T06:00:01.293Z"
    }
   },
   "outputs": [
    {
     "name": "stdout",
     "output_type": "stream",
     "text": [
      "Nodes: 6\n",
      "Edges: 6\n",
      "Adjacecies of atom 7: Set([12, 8])\n"
     ]
    }
   ],
   "source": [
    "subg = nodesubgraph(mol, Set(7:12))\n",
    "ncnt = nodecount(subg)\n",
    "ecnt = edgecount(subg)\n",
    "adj7 = adjacencies(subg, 7)\n",
    "println(\"Nodes: $(ncnt)\")\n",
    "println(\"Edges: $(ecnt)\")\n",
    "println(\"Adjacecies of atom 7: $(adj7)\")"
   ]
  },
  {
   "cell_type": "code",
   "execution_count": 10,
   "metadata": {
    "ExecuteTime": {
     "end_time": "2020-07-30T15:00:04.113000+09:00",
     "start_time": "2020-07-30T06:00:03.952Z"
    },
    "scrolled": true
   },
   "outputs": [
    {
     "data": {
      "image/svg+xml": [
       "<svg xmlns=\"http://www.w3.org/2000/svg\"\n",
       " xmlns:xlink=\"http://www.w3.org/1999/xlink\"\n",
       " version=\"1.2\" baseProfile=\"tiny\"\n",
       " text-rendering=\"geometricPrecision\"\n",
       " preserveAspectRatio=\"xMidYMid meet\"\n",
       " font-weight=\"normal\"\n",
       " font-family=\"Helvetica\"\n",
       " width=\"300\" height=\"300\"\n",
       " viewBox=\"0 0 250.72 215.25\">\n",
       "<rect x=\"0\" y=\"0\" width=\"250.72\" height=\"215.25\"\n",
       " fill=\"rgb(255, 255, 255)\" opacity=\"0.0\"/>\n",
       "<line x1=\"89.81\" y1=\"124.65\" x2=\"83.86\" y2=\"116.01\" stroke=\"rgb(0, 0, 0)\" />\n",
       "<line x1=\"83.86\" y1=\"116.01\" x2=\"77.90\" y2=\"107.36\" stroke=\"rgb(0, 0, 255)\" />\n",
       "<line x1=\"84.92\" y1=\"125.48\" x2=\"80.15\" y2=\"118.56\" stroke=\"rgb(0, 0, 0)\" />\n",
       "<line x1=\"80.15\" y1=\"118.56\" x2=\"75.38\" y2=\"111.64\" stroke=\"rgb(0, 0, 255)\" />\n",
       "<line x1=\"47.02\" y1=\"154.13\" x2=\"76.92\" y2=\"151.74\" stroke=\"rgb(0, 0, 0)\" /><line x1=\"49.65\" y1=\"149.40\" x2=\"73.57\" y2=\"147.50\" stroke=\"rgb(0, 0, 0)\" /><line x1=\"30.00\" y1=\"129.42\" x2=\"47.02\" y2=\"154.13\" stroke=\"rgb(0, 0, 0)\" /><line x1=\"42.89\" y1=\"102.33\" x2=\"30.00\" y2=\"129.42\" stroke=\"rgb(0, 0, 0)\" /><line x1=\"45.67\" y1=\"106.97\" x2=\"35.35\" y2=\"128.64\" stroke=\"rgb(0, 0, 0)\" /><line x1=\"76.92\" y1=\"151.74\" x2=\"89.81\" y2=\"124.65\" stroke=\"rgb(0, 0, 0)\" /><line x1=\"63.82\" y1=\"100.66\" x2=\"53.36\" y2=\"101.50\" stroke=\"rgb(0, 0, 255)\" />\n",
       "<line x1=\"53.36\" y1=\"101.50\" x2=\"42.89\" y2=\"102.33\" stroke=\"rgb(0, 0, 0)\" />\n",
       "<text x=\"72.79\" y=\"106.95\" font-size=\"14.0\"\n",
       " fill=\"rgb(0, 0, 255)\" text-anchor=\"middle\" >N</text>\n",
       "</svg>\n"
      ]
     },
     "metadata": {},
     "output_type": "display_data"
    }
   ],
   "source": [
    "molsvg = drawsvg(subg, 300, 300)\n",
    "display(\"image/svg+xml\",  molsvg)"
   ]
  },
  {
   "cell_type": "markdown",
   "metadata": {},
   "source": [
    "SubgraphView can be nested. But frequent subgraphing can affect performance.\n",
    "\n",
    "If you want to mine subgraph space deeply, it is recommended to instanciate it as GraphMol by `graphmol(subg)`."
   ]
  },
  {
   "cell_type": "code",
   "execution_count": 11,
   "metadata": {
    "ExecuteTime": {
     "end_time": "2020-07-30T15:00:30.827000+09:00",
     "start_time": "2020-07-30T06:00:30.633Z"
    },
    "scrolled": true
   },
   "outputs": [
    {
     "data": {
      "image/svg+xml": [
       "<svg xmlns=\"http://www.w3.org/2000/svg\"\n",
       " xmlns:xlink=\"http://www.w3.org/1999/xlink\"\n",
       " version=\"1.2\" baseProfile=\"tiny\"\n",
       " text-rendering=\"geometricPrecision\"\n",
       " preserveAspectRatio=\"xMidYMid meet\"\n",
       " font-weight=\"normal\"\n",
       " font-family=\"Helvetica\"\n",
       " width=\"300\" height=\"300\"\n",
       " viewBox=\"0 0 250.72 215.25\">\n",
       "<rect x=\"0\" y=\"0\" width=\"250.72\" height=\"215.25\"\n",
       " fill=\"rgb(255, 255, 255)\" opacity=\"0.0\"/>\n",
       "<line x1=\"89.81\" y1=\"124.65\" x2=\"83.86\" y2=\"116.01\" stroke=\"rgb(0, 0, 0)\" />\n",
       "<line x1=\"83.86\" y1=\"116.01\" x2=\"77.90\" y2=\"107.36\" stroke=\"rgb(0, 0, 255)\" />\n",
       "<line x1=\"84.92\" y1=\"125.48\" x2=\"80.15\" y2=\"118.56\" stroke=\"rgb(0, 0, 0)\" />\n",
       "<line x1=\"80.15\" y1=\"118.56\" x2=\"75.38\" y2=\"111.64\" stroke=\"rgb(0, 0, 255)\" />\n",
       "<line x1=\"63.82\" y1=\"100.66\" x2=\"53.36\" y2=\"101.50\" stroke=\"rgb(0, 0, 255)\" />\n",
       "<line x1=\"53.36\" y1=\"101.50\" x2=\"42.89\" y2=\"102.33\" stroke=\"rgb(0, 0, 0)\" />\n",
       "<text x=\"72.79\" y=\"106.95\" font-size=\"14.0\"\n",
       " fill=\"rgb(0, 0, 255)\" text-anchor=\"middle\" >N</text>\n",
       "</svg>\n"
      ]
     },
     "metadata": {},
     "output_type": "display_data"
    }
   ],
   "source": [
    "subgsubg = nodesubgraph(subg, Set(7:9))\n",
    "molsvg = drawsvg(subgsubg, 300, 300)\n",
    "display(\"image/svg+xml\",  molsvg)"
   ]
  },
  {
   "cell_type": "code",
   "execution_count": 12,
   "metadata": {
    "ExecuteTime": {
     "end_time": "2020-07-30T15:00:35.813000+09:00",
     "start_time": "2020-07-30T06:00:34.949Z"
    }
   },
   "outputs": [
    {
     "data": {
      "text/plain": [
       "GraphMol{SmilesAtom, SmilesBond}([Dict(1 => 2), Dict(2 => 3, 1 => 1), Dict(2 => 2)], [(1, 2), (2, 3)], SmilesAtom[SmilesAtom(:C, 0, 1, nothing, true, :unspecified), SmilesAtom(:N, 0, 1, nothing, true, :unspecified), SmilesAtom(:C, 0, 1, nothing, true, :unspecified)], SmilesBond[SmilesBond(2, false, :unspecified, :unspecified), SmilesBond(1, false, :unspecified, :unspecified)], Dict{Symbol, Any}(), Dict{Symbol, Any}())"
      ]
     },
     "execution_count": 12,
     "metadata": {},
     "output_type": "execute_result"
    }
   ],
   "source": [
    "graphmol(subgsubg)"
   ]
  }
 ],
 "metadata": {
  "@webio": {
   "lastCommId": null,
   "lastKernelId": null
  },
  "jupytext": {
   "formats": "ipynb,md"
  },
  "kernelspec": {
   "display_name": "Julia 1.6.0",
   "language": "julia",
   "name": "julia-1.6"
  },
  "language_info": {
   "file_extension": ".jl",
   "mimetype": "application/julia",
   "name": "julia",
   "version": "1.6.0"
  }
 },
 "nbformat": 4,
 "nbformat_minor": 2
}
