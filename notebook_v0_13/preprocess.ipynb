{
 "cells": [
  {
   "cell_type": "markdown",
   "metadata": {},
   "source": [
    "# Preprocessing\n",
    "\n",
    "MolecularGraph.jl version: 0.10.0\n",
    "\n",
    "Your chemical structure data may have some inconsistency in molecular graph notation that comes from difference in input data format. Also preferable molecular graph model should be selected according to the application.  `MolecularGraph.jl` offers preprocessing methods that helps unification of expression and making consistent molecular graph model as you like.\n",
    "\n",
    "- Kekulization\n",
    "- Implicit/Explicit hydrogen\n",
    "- Dealing with stereochemistry\n",
    "- Unifying representation of charges and delocalized electrons\n",
    "- Extract largest molecular graph\n"
   ]
  },
  {
   "cell_type": "code",
   "execution_count": 1,
   "metadata": {
    "ExecuteTime": {
     "end_time": "2020-07-29T22:55:27.942000+09:00",
     "start_time": "2020-07-29T13:55:23.038Z"
    },
    "scrolled": true
   },
   "outputs": [
    {
     "name": "stderr",
     "output_type": "stream",
     "text": [
      "\u001b[32m\u001b[1m  Activating\u001b[22m\u001b[39m environment at `~/Repository/MolecularGraph.jl_notebook/Project.toml`\n",
      "Path `../../MolecularGraph.jl` exists and looks like the correct package. Using existing path.\n",
      "\u001b[32m\u001b[1m   Resolving\u001b[22m\u001b[39m package versions...\n",
      "\u001b[32m\u001b[1m  No Changes\u001b[22m\u001b[39m to `~/Repository/MolecularGraph.jl_notebook/Project.toml`\n",
      "\u001b[32m\u001b[1m  No Changes\u001b[22m\u001b[39m to `~/Repository/MolecularGraph.jl_notebook/Manifest.toml`\n"
     ]
    }
   ],
   "source": [
    "using Pkg\n",
    "Pkg.activate(\"..\")\n",
    "using MolecularGraph"
   ]
  },
  {
   "cell_type": "markdown",
   "metadata": {},
   "source": [
    "## Kekulization\n",
    "\n",
    "SMILES allows aromatic bond notation without specific bond order value. Although we know it is intrinsic expression of aromaticity, it is sometimes inconvenient in the case where we need appearent atom valence to calculate molecular properties. Kekulization is well-known technique to align double bonds along aromatic rings.\n",
    "\n",
    "Actually, `smilestomol(mol)` method do kekulization by `kekulize!(mol)` in it so usually we don't have to care about it. Here we use `parse(SMILES, mol)` that just parse SMILES to know how `kekulize!` work.\n",
    "`kekulize!` converts aromatic bonds into single/double bonds."
   ]
  },
  {
   "cell_type": "code",
   "execution_count": 2,
   "metadata": {
    "ExecuteTime": {
     "end_time": "2020-07-29T22:55:33.872000+09:00",
     "start_time": "2020-07-29T13:55:23.039Z"
    }
   },
   "outputs": [
    {
     "data": {
      "image/svg+xml": [
       "<svg xmlns=\"http://www.w3.org/2000/svg\"\n",
       " xmlns:xlink=\"http://www.w3.org/1999/xlink\"\n",
       " version=\"1.2\" baseProfile=\"tiny\"\n",
       " text-rendering=\"geometricPrecision\"\n",
       " preserveAspectRatio=\"xMidYMid meet\"\n",
       " font-weight=\"normal\"\n",
       " font-family=\"Helvetica\"\n",
       " width=\"150\" height=\"150\"\n",
       " viewBox=\"0 0 158.14 120.00\">\n",
       "<rect x=\"0\" y=\"0\" width=\"158.14\" height=\"120.00\"\n",
       " fill=\"rgb(255, 255, 255)\" opacity=\"0.0\"/>\n",
       "<line x1=\"76.18\" y1=\"75.03\" x2=\"66.19\" y2=\"78.28\" stroke=\"rgb(0, 0, 0)\" />\n",
       "<line x1=\"66.19\" y1=\"78.28\" x2=\"56.21\" y2=\"81.53\" stroke=\"rgb(255, 0, 0)\" />\n",
       "<line x1=\"76.15\" y1=\"45.02\" x2=\"76.18\" y2=\"75.03\" stroke=\"rgb(0, 0, 0)\" /><line x1=\"76.18\" y1=\"75.03\" x2=\"102.17\" y2=\"90.00\" stroke=\"rgb(0, 0, 0)\" /><line x1=\"102.17\" y1=\"90.00\" x2=\"111.26\" y2=\"84.75\" stroke=\"rgb(0, 0, 0)\" />\n",
       "<line x1=\"111.26\" y1=\"84.75\" x2=\"120.35\" y2=\"79.49\" stroke=\"rgb(0, 0, 255)\" />\n",
       "<line x1=\"30.00\" y1=\"60.06\" x2=\"47.62\" y2=\"35.77\" stroke=\"rgb(0, 0, 0)\" /><line x1=\"94.33\" y1=\"34.51\" x2=\"85.24\" y2=\"39.77\" stroke=\"rgb(0, 0, 255)\" />\n",
       "<line x1=\"85.24\" y1=\"39.77\" x2=\"76.15\" y2=\"45.02\" stroke=\"rgb(0, 0, 0)\" />\n",
       "<line x1=\"128.11\" y1=\"44.98\" x2=\"119.02\" y2=\"39.74\" stroke=\"rgb(0, 0, 0)\" />\n",
       "<line x1=\"119.02\" y1=\"39.74\" x2=\"109.92\" y2=\"34.49\" stroke=\"rgb(0, 0, 255)\" />\n",
       "<line x1=\"128.13\" y1=\"65.98\" x2=\"128.12\" y2=\"55.48\" stroke=\"rgb(0, 0, 255)\" />\n",
       "<line x1=\"128.12\" y1=\"55.48\" x2=\"128.11\" y2=\"44.98\" stroke=\"rgb(0, 0, 0)\" />\n",
       "<line x1=\"47.62\" y1=\"35.77\" x2=\"76.15\" y2=\"45.02\" stroke=\"rgb(0, 0, 0)\" /><line x1=\"42.36\" y1=\"77.04\" x2=\"36.18\" y2=\"68.55\" stroke=\"rgb(255, 0, 0)\" />\n",
       "<line x1=\"36.18\" y1=\"68.55\" x2=\"30.00\" y2=\"60.06\" stroke=\"rgb(0, 0, 0)\" />\n",
       "<text x=\"121.14\" y=\"81.98\" font-size=\"14.0\"\n",
       " fill=\"rgb(0, 0, 255)\" >NH</text>\n",
       "<text x=\"102.12\" y=\"37.00\" font-size=\"14.0\"\n",
       " fill=\"rgb(0, 0, 255)\" text-anchor=\"middle\" >NH</text>\n",
       "<text x=\"47.65\" y=\"91.31\" font-size=\"14.0\"\n",
       " fill=\"rgb(255, 0, 0)\" text-anchor=\"middle\" >O</text>\n",
       "</svg>\n"
      ]
     },
     "metadata": {},
     "output_type": "display_data"
    }
   ],
   "source": [
    "mol = parse(SMILES, \"o1ccc2c1cncn2\")\n",
    "molsvg = drawsvg(mol, 150, 150)\n",
    "# Note: aromatic bond notation (e.g. dashed cycle path or circle in the ring) is not supported yet\n",
    "display(\"image/svg+xml\",  molsvg)"
   ]
  },
  {
   "cell_type": "code",
   "execution_count": 3,
   "metadata": {
    "ExecuteTime": {
     "end_time": "2020-07-29T22:55:35.030000+09:00",
     "start_time": "2020-07-29T13:55:23.041Z"
    }
   },
   "outputs": [
    {
     "data": {
      "image/svg+xml": [
       "<svg xmlns=\"http://www.w3.org/2000/svg\"\n",
       " xmlns:xlink=\"http://www.w3.org/1999/xlink\"\n",
       " version=\"1.2\" baseProfile=\"tiny\"\n",
       " text-rendering=\"geometricPrecision\"\n",
       " preserveAspectRatio=\"xMidYMid meet\"\n",
       " font-weight=\"normal\"\n",
       " font-family=\"Helvetica\"\n",
       " width=\"150\" height=\"150\"\n",
       " viewBox=\"0 0 158.14 120.00\">\n",
       "<rect x=\"0\" y=\"0\" width=\"158.14\" height=\"120.00\"\n",
       " fill=\"rgb(255, 255, 255)\" opacity=\"0.0\"/>\n",
       "<line x1=\"76.18\" y1=\"75.03\" x2=\"66.19\" y2=\"78.28\" stroke=\"rgb(0, 0, 0)\" />\n",
       "<line x1=\"66.19\" y1=\"78.28\" x2=\"56.21\" y2=\"81.53\" stroke=\"rgb(255, 0, 0)\" />\n",
       "<line x1=\"76.15\" y1=\"45.02\" x2=\"76.18\" y2=\"75.03\" stroke=\"rgb(0, 0, 0)\" /><line x1=\"80.66\" y1=\"48.02\" x2=\"80.67\" y2=\"72.02\" stroke=\"rgb(0, 0, 0)\" /><line x1=\"76.18\" y1=\"75.03\" x2=\"102.17\" y2=\"90.00\" stroke=\"rgb(0, 0, 0)\" /><line x1=\"102.17\" y1=\"90.00\" x2=\"111.26\" y2=\"84.75\" stroke=\"rgb(0, 0, 0)\" />\n",
       "<line x1=\"111.26\" y1=\"84.75\" x2=\"120.35\" y2=\"79.49\" stroke=\"rgb(0, 0, 255)\" />\n",
       "<line x1=\"101.73\" y1=\"85.05\" x2=\"109.01\" y2=\"80.85\" stroke=\"rgb(0, 0, 0)\" />\n",
       "<line x1=\"109.01\" y1=\"80.85\" x2=\"116.28\" y2=\"76.64\" stroke=\"rgb(0, 0, 255)\" />\n",
       "<line x1=\"30.00\" y1=\"60.06\" x2=\"47.62\" y2=\"35.77\" stroke=\"rgb(0, 0, 0)\" /><line x1=\"35.40\" y1=\"60.27\" x2=\"49.50\" y2=\"40.84\" stroke=\"rgb(0, 0, 0)\" /><line x1=\"94.33\" y1=\"34.51\" x2=\"85.24\" y2=\"39.77\" stroke=\"rgb(0, 0, 255)\" />\n",
       "<line x1=\"85.24\" y1=\"39.77\" x2=\"76.15\" y2=\"45.02\" stroke=\"rgb(0, 0, 0)\" />\n",
       "<line x1=\"128.11\" y1=\"44.98\" x2=\"119.02\" y2=\"39.74\" stroke=\"rgb(0, 0, 0)\" />\n",
       "<line x1=\"119.02\" y1=\"39.74\" x2=\"109.92\" y2=\"34.49\" stroke=\"rgb(0, 0, 255)\" />\n",
       "<line x1=\"124.05\" y1=\"47.83\" x2=\"116.77\" y2=\"43.64\" stroke=\"rgb(0, 0, 0)\" />\n",
       "<line x1=\"116.77\" y1=\"43.64\" x2=\"109.49\" y2=\"39.44\" stroke=\"rgb(0, 0, 255)\" />\n",
       "<line x1=\"128.13\" y1=\"65.98\" x2=\"128.12\" y2=\"55.48\" stroke=\"rgb(0, 0, 255)\" />\n",
       "<line x1=\"128.12\" y1=\"55.48\" x2=\"128.11\" y2=\"44.98\" stroke=\"rgb(0, 0, 0)\" />\n",
       "<line x1=\"47.62\" y1=\"35.77\" x2=\"76.15\" y2=\"45.02\" stroke=\"rgb(0, 0, 0)\" /><line x1=\"42.36\" y1=\"77.04\" x2=\"36.18\" y2=\"68.55\" stroke=\"rgb(255, 0, 0)\" />\n",
       "<line x1=\"36.18\" y1=\"68.55\" x2=\"30.00\" y2=\"60.06\" stroke=\"rgb(0, 0, 0)\" />\n",
       "<text x=\"128.14\" y=\"81.98\" font-size=\"14.0\"\n",
       " fill=\"rgb(0, 0, 255)\" text-anchor=\"middle\" >N</text>\n",
       "<text x=\"102.12\" y=\"37.00\" font-size=\"14.0\"\n",
       " fill=\"rgb(0, 0, 255)\" text-anchor=\"middle\" >N</text>\n",
       "<text x=\"47.65\" y=\"91.31\" font-size=\"14.0\"\n",
       " fill=\"rgb(255, 0, 0)\" text-anchor=\"middle\" >O</text>\n",
       "</svg>\n"
      ]
     },
     "metadata": {},
     "output_type": "display_data"
    }
   ],
   "source": [
    "mol = parse(SMILES, \"o1ccc2c1cncn2\")\n",
    "kekulize!(mol)\n",
    "molsvg = drawsvg(mol, 150, 150)\n",
    "display(\"image/svg+xml\",  molsvg)"
   ]
  },
  {
   "cell_type": "markdown",
   "metadata": {},
   "source": [
    "Please be careful not to forget to write pyrrole hydrogen. It is not obvious that if nitrogens in aromatic rings are pyrrole-like (-NH-) or pyridine-like (=N-).\n",
    "\n",
    "Some cheminformatics toolkit may parse pyrrole N without H though it is grammatically wrong. In this case, MolecularGraph.jl returns ErrorException."
   ]
  },
  {
   "cell_type": "code",
   "execution_count": 4,
   "metadata": {
    "ExecuteTime": {
     "end_time": "2020-07-29T22:55:35.616000+09:00",
     "start_time": "2020-07-29T13:55:23.042Z"
    },
    "scrolled": true
   },
   "outputs": [
    {
     "ename": "LoadError",
     "evalue": "Kekulization failed: Please check if your SMILES is valid (e.g. Pyrrole n should be [nH])",
     "output_type": "error",
     "traceback": [
      "Kekulization failed: Please check if your SMILES is valid (e.g. Pyrrole n should be [nH])",
      "",
      "Stacktrace:",
      " [1] kekulize!(mol::GraphMol{SmilesAtom, SmilesBond})",
      "   @ MolecularGraph ~/Repository/MolecularGraph.jl/src/preprocess.jl:52",
      " [2] smilestomol(smiles::String)",
      "   @ MolecularGraph ~/Repository/MolecularGraph.jl/src/smarts/base.jl:89",
      " [3] top-level scope",
      "   @ In[4]:1",
      " [4] eval",
      "   @ ./boot.jl:360 [inlined]",
      " [5] include_string(mapexpr::typeof(REPL.softscope), mod::Module, code::String, filename::String)",
      "   @ Base ./loading.jl:1094"
     ]
    }
   ],
   "source": [
    "mol = smilestomol(\"n1cccc1\")"
   ]
  },
  {
   "cell_type": "code",
   "execution_count": 5,
   "metadata": {
    "ExecuteTime": {
     "end_time": "2020-07-29T22:55:35.902000+09:00",
     "start_time": "2020-07-29T13:55:23.044Z"
    }
   },
   "outputs": [
    {
     "data": {
      "image/svg+xml": [
       "<svg xmlns=\"http://www.w3.org/2000/svg\"\n",
       " xmlns:xlink=\"http://www.w3.org/1999/xlink\"\n",
       " version=\"1.2\" baseProfile=\"tiny\"\n",
       " text-rendering=\"geometricPrecision\"\n",
       " preserveAspectRatio=\"xMidYMid meet\"\n",
       " font-weight=\"normal\"\n",
       " font-family=\"Helvetica\"\n",
       " width=\"150\" height=\"150\"\n",
       " viewBox=\"0 0 108.25 107.53\">\n",
       "<rect x=\"0\" y=\"0\" width=\"108.25\" height=\"107.53\"\n",
       " fill=\"rgb(255, 255, 255)\" opacity=\"0.0\"/>\n",
       "<line x1=\"78.25\" y1=\"44.86\" x2=\"76.12\" y2=\"55.14\" stroke=\"rgb(0, 0, 0)\" />\n",
       "<line x1=\"76.12\" y1=\"55.14\" x2=\"73.99\" y2=\"65.43\" stroke=\"rgb(0, 0, 255)\" />\n",
       "<line x1=\"52.19\" y1=\"30.00\" x2=\"78.25\" y2=\"44.86\" stroke=\"rgb(0, 0, 0)\" /><line x1=\"52.57\" y1=\"35.40\" x2=\"73.41\" y2=\"47.29\" stroke=\"rgb(0, 0, 0)\" /><line x1=\"42.35\" y1=\"77.53\" x2=\"30.00\" y2=\"50.19\" stroke=\"rgb(0, 0, 0)\" /><line x1=\"45.21\" y1=\"72.95\" x2=\"35.34\" y2=\"51.07\" stroke=\"rgb(0, 0, 0)\" /><line x1=\"30.00\" y1=\"50.19\" x2=\"52.19\" y2=\"30.00\" stroke=\"rgb(0, 0, 0)\" /><line x1=\"63.22\" y1=\"75.23\" x2=\"52.79\" y2=\"76.38\" stroke=\"rgb(0, 0, 255)\" />\n",
       "<line x1=\"52.79\" y1=\"76.38\" x2=\"42.35\" y2=\"77.53\" stroke=\"rgb(0, 0, 0)\" />\n",
       "<text x=\"72.17\" y=\"81.24\" font-size=\"14.0\"\n",
       " fill=\"rgb(0, 0, 255)\" text-anchor=\"middle\" >NH</text>\n",
       "</svg>\n"
      ]
     },
     "metadata": {},
     "output_type": "display_data"
    }
   ],
   "source": [
    "mol = smilestomol(\"[nH]1cccc1\")\n",
    "mol = removehydrogens(mol)\n",
    "molsvg = drawsvg(mol, 150, 150)\n",
    "display(\"image/svg+xml\",  molsvg)"
   ]
  },
  {
   "cell_type": "markdown",
   "metadata": {},
   "source": [
    "## Implicit/explicit hydrogens\n",
    "\n",
    "Molecules parsed from `SDFile` and `SMILES` may have some hydrogen atom nodes. Hydrogen nodes can be removed by `removehydrogens`."
   ]
  },
  {
   "cell_type": "code",
   "execution_count": 6,
   "metadata": {
    "ExecuteTime": {
     "end_time": "2020-07-29T22:55:35.961000+09:00",
     "start_time": "2020-07-29T13:55:23.046Z"
    },
    "scrolled": true
   },
   "outputs": [
    {
     "data": {
      "image/svg+xml": [
       "<svg xmlns=\"http://www.w3.org/2000/svg\"\n",
       " xmlns:xlink=\"http://www.w3.org/1999/xlink\"\n",
       " version=\"1.2\" baseProfile=\"tiny\"\n",
       " text-rendering=\"geometricPrecision\"\n",
       " preserveAspectRatio=\"xMidYMid meet\"\n",
       " font-weight=\"normal\"\n",
       " font-family=\"Helvetica\"\n",
       " width=\"150\" height=\"150\"\n",
       " viewBox=\"0 0 189.88 131.01\">\n",
       "<rect x=\"0\" y=\"0\" width=\"189.88\" height=\"131.01\"\n",
       " fill=\"rgb(255, 255, 255)\" opacity=\"0.0\"/>\n",
       "<line x1=\"107.93\" y1=\"75.02\" x2=\"118.41\" y2=\"93.22\" stroke=\"rgb(0, 0, 0)\" /><line x1=\"133.92\" y1=\"60.04\" x2=\"107.93\" y2=\"75.02\" stroke=\"rgb(0, 0, 0)\" /><line x1=\"107.93\" y1=\"75.02\" x2=\"97.41\" y2=\"93.20\" stroke=\"rgb(0, 0, 0)\" /><line x1=\"107.93\" y1=\"75.02\" x2=\"81.96\" y2=\"60.00\" stroke=\"rgb(0, 0, 0)\" /><line x1=\"133.92\" y1=\"60.04\" x2=\"144.43\" y2=\"41.86\" stroke=\"rgb(0, 0, 0)\" /><line x1=\"48.18\" y1=\"70.47\" x2=\"42.98\" y2=\"67.47\" stroke=\"rgb(255, 0, 0)\" />\n",
       "<line x1=\"42.98\" y1=\"67.47\" x2=\"37.79\" y2=\"64.46\" stroke=\"rgb(0, 0, 0)\" />\n",
       "<line x1=\"81.96\" y1=\"60.00\" x2=\"72.86\" y2=\"65.24\" stroke=\"rgb(0, 0, 0)\" />\n",
       "<line x1=\"72.86\" y1=\"65.24\" x2=\"63.76\" y2=\"70.49\" stroke=\"rgb(255, 0, 0)\" />\n",
       "<line x1=\"84.21\" y1=\"60.00\" x2=\"84.22\" y2=\"49.50\" stroke=\"rgb(0, 0, 0)\" />\n",
       "<line x1=\"84.22\" y1=\"49.50\" x2=\"84.23\" y2=\"39.00\" stroke=\"rgb(255, 0, 0)\" />\n",
       "<line x1=\"79.71\" y1=\"60.00\" x2=\"79.72\" y2=\"49.50\" stroke=\"rgb(0, 0, 0)\" />\n",
       "<line x1=\"79.72\" y1=\"49.50\" x2=\"79.73\" y2=\"39.00\" stroke=\"rgb(255, 0, 0)\" />\n",
       "<line x1=\"133.92\" y1=\"60.04\" x2=\"152.09\" y2=\"70.55\" stroke=\"rgb(0, 0, 0)\" /><line x1=\"133.92\" y1=\"60.04\" x2=\"123.43\" y2=\"41.85\" stroke=\"rgb(0, 0, 0)\" /><text x=\"92.91\" y=\"107.99\" font-size=\"14.0\"\n",
       " fill=\"rgb(0, 0, 0)\" text-anchor=\"middle\" >H</text>\n",
       "<text x=\"159.88\" y=\"82.06\" font-size=\"14.0\"\n",
       " fill=\"rgb(0, 0, 0)\" text-anchor=\"middle\" >H</text>\n",
       "<text x=\"122.91\" y=\"108.01\" font-size=\"14.0\"\n",
       " fill=\"rgb(0, 0, 0)\" text-anchor=\"middle\" >H</text>\n",
       "<text x=\"118.94\" y=\"41.05\" font-size=\"14.0\"\n",
       " fill=\"rgb(0, 0, 0)\" text-anchor=\"middle\" >H</text>\n",
       "<text x=\"55.97\" y=\"81.98\" font-size=\"14.0\"\n",
       " fill=\"rgb(255, 0, 0)\" text-anchor=\"middle\" >O</text>\n",
       "<text x=\"30.00\" y=\"66.96\" font-size=\"14.0\"\n",
       " fill=\"rgb(0, 0, 0)\" text-anchor=\"middle\" >H</text>\n",
       "<text x=\"81.98\" y=\"37.00\" font-size=\"14.0\"\n",
       " fill=\"rgb(255, 0, 0)\" text-anchor=\"middle\" >O</text>\n",
       "<text x=\"148.94\" y=\"41.07\" font-size=\"14.0\"\n",
       " fill=\"rgb(0, 0, 0)\" text-anchor=\"middle\" >H</text>\n",
       "</svg>\n"
      ]
     },
     "metadata": {},
     "output_type": "display_data"
    }
   ],
   "source": [
    "mol = smilestomol(\"[CH3][CH2]C(=O)[OH]\")\n",
    "molsvg = drawsvg(mol, 150, 150)\n",
    "display(\"image/svg+xml\",  molsvg)"
   ]
  },
  {
   "cell_type": "code",
   "execution_count": 7,
   "metadata": {
    "ExecuteTime": {
     "end_time": "2020-07-29T22:55:35.963000+09:00",
     "start_time": "2020-07-29T13:55:23.047Z"
    }
   },
   "outputs": [
    {
     "data": {
      "image/svg+xml": [
       "<svg xmlns=\"http://www.w3.org/2000/svg\"\n",
       " xmlns:xlink=\"http://www.w3.org/1999/xlink\"\n",
       " version=\"1.2\" baseProfile=\"tiny\"\n",
       " text-rendering=\"geometricPrecision\"\n",
       " preserveAspectRatio=\"xMidYMid meet\"\n",
       " font-weight=\"normal\"\n",
       " font-family=\"Helvetica\"\n",
       " width=\"150\" height=\"150\"\n",
       " viewBox=\"0 0 111.96 135.05\">\n",
       "<rect x=\"0\" y=\"0\" width=\"111.96\" height=\"135.05\"\n",
       " fill=\"rgb(255, 255, 255)\" opacity=\"0.0\"/>\n",
       "<line x1=\"56.01\" y1=\"75.05\" x2=\"56.03\" y2=\"85.55\" stroke=\"rgb(0, 0, 0)\" />\n",
       "<line x1=\"56.03\" y1=\"85.55\" x2=\"56.05\" y2=\"96.05\" stroke=\"rgb(255, 0, 0)\" />\n",
       "<line x1=\"81.96\" y1=\"60.00\" x2=\"56.01\" y2=\"75.05\" stroke=\"rgb(0, 0, 0)\" /><line x1=\"57.13\" y1=\"73.10\" x2=\"48.03\" y2=\"67.87\" stroke=\"rgb(0, 0, 0)\" />\n",
       "<line x1=\"48.03\" y1=\"67.87\" x2=\"38.92\" y2=\"62.64\" stroke=\"rgb(255, 0, 0)\" />\n",
       "<line x1=\"54.89\" y1=\"77.00\" x2=\"45.79\" y2=\"71.77\" stroke=\"rgb(0, 0, 0)\" />\n",
       "<line x1=\"45.79\" y1=\"71.77\" x2=\"36.68\" y2=\"66.54\" stroke=\"rgb(255, 0, 0)\" />\n",
       "<line x1=\"81.90\" y1=\"30.00\" x2=\"81.96\" y2=\"60.00\" stroke=\"rgb(0, 0, 0)\" /><text x=\"49.07\" y=\"112.05\" font-size=\"14.0\"\n",
       " fill=\"rgb(255, 0, 0)\" >OH</text>\n",
       "<text x=\"30.00\" y=\"67.10\" font-size=\"14.0\"\n",
       " fill=\"rgb(255, 0, 0)\" text-anchor=\"middle\" >O</text>\n",
       "</svg>\n"
      ]
     },
     "metadata": {},
     "output_type": "display_data"
    }
   ],
   "source": [
    "mol = removehydrogens(mol)\n",
    "molsvg = drawsvg(mol, 150, 150)\n",
    "display(\"image/svg+xml\",  molsvg)"
   ]
  },
  {
   "cell_type": "markdown",
   "metadata": {},
   "source": [
    "`removehydrogens(mol, all=true)` (default) will remove all hydrogen nodes whereas `all=false` will remove only trivial hydrogens (are attached to organic atoms, have no charges and are not involved in stereochemistry)"
   ]
  },
  {
   "cell_type": "code",
   "execution_count": 8,
   "metadata": {
    "ExecuteTime": {
     "end_time": "2020-07-29T22:55:36.774000+09:00",
     "start_time": "2020-07-29T13:55:23.049Z"
    }
   },
   "outputs": [
    {
     "data": {
      "image/svg+xml": [
       "<svg xmlns=\"http://www.w3.org/2000/svg\"\n",
       " xmlns:xlink=\"http://www.w3.org/1999/xlink\"\n",
       " version=\"1.2\" baseProfile=\"tiny\"\n",
       " text-rendering=\"geometricPrecision\"\n",
       " preserveAspectRatio=\"xMidYMid meet\"\n",
       " font-weight=\"normal\"\n",
       " font-family=\"Helvetica\"\n",
       " width=\"150\" height=\"150\"\n",
       " viewBox=\"0 0 282.04 241.02\">\n",
       "<rect x=\"0\" y=\"0\" width=\"282.04\" height=\"241.02\"\n",
       " fill=\"rgb(255, 255, 255)\" opacity=\"0.0\"/>\n",
       "<polygon points=\"0,0 1,1 1,-1\" fill=\"rgb(0, 0, 0)\" transform=\"matrix(-20.27 -5.47 0.82 -3.04 80.21 80.21)\"/>\n",
       "<line x1=\"50.27\" y1=\"99.04\" x2=\"44.48\" y2=\"97.48\" stroke=\"rgb(0, 0, 255)\" />\n",
       "<line x1=\"44.48\" y1=\"97.48\" x2=\"38.69\" y2=\"95.92\" stroke=\"rgb(0, 0, 0)\" />\n",
       "<line x1=\"88.03\" y1=\"51.25\" x2=\"73.21\" y2=\"36.38\" stroke=\"rgb(0, 0, 0)\" /><line x1=\"61.28\" y1=\"110.09\" x2=\"62.82\" y2=\"115.88\" stroke=\"rgb(0, 0, 255)\" />\n",
       "<line x1=\"62.82\" y1=\"115.88\" x2=\"64.36\" y2=\"121.68\" stroke=\"rgb(0, 0, 0)\" />\n",
       "<line x1=\"121.10\" y1=\"93.90\" x2=\"110.96\" y2=\"96.59\" stroke=\"rgb(255, 0, 0)\" />\n",
       "<line x1=\"110.96\" y1=\"96.59\" x2=\"100.81\" y2=\"99.29\" stroke=\"rgb(0, 0, 0)\" />\n",
       "<line x1=\"122.26\" y1=\"98.24\" x2=\"112.11\" y2=\"100.94\" stroke=\"rgb(255, 0, 0)\" />\n",
       "<line x1=\"112.11\" y1=\"100.94\" x2=\"101.97\" y2=\"103.64\" stroke=\"rgb(0, 0, 0)\" />\n",
       "<line x1=\"101.39\" y1=\"101.47\" x2=\"80.21\" y2=\"80.21\" stroke=\"rgb(0, 0, 0)\" /><g stroke-width=\"0.3\" transform=\"matrix(-2.13 2.12 -0.32 -0.32 80.21 80.21)\">\n",
       " <line x1=\"0\" y1=\"1\" x2=\"0\" y2=\"-1\" stroke=\"rgb(0, 0, 0)\" />\n",
       " <line x1=\"1\" y1=\"2\" x2=\"1\" y2=\"-2\" stroke=\"rgb(0, 0, 0)\" />\n",
       " <line x1=\"2\" y1=\"3\" x2=\"2\" y2=\"-3\" stroke=\"rgb(0, 0, 0)\" />\n",
       " <line x1=\"3\" y1=\"4\" x2=\"3\" y2=\"-4\" stroke=\"rgb(0, 0, 0)\" />\n",
       " <line x1=\"4\" y1=\"5\" x2=\"4\" y2=\"-5\" stroke=\"rgb(0, 0, 255)\" />\n",
       " <line x1=\"5\" y1=\"6\" x2=\"5\" y2=\"-6\" stroke=\"rgb(0, 0, 255)\" />\n",
       " <line x1=\"6\" y1=\"7\" x2=\"6\" y2=\"-7\" stroke=\"rgb(0, 0, 255)\" />\n",
       " <line x1=\"7\" y1=\"8\" x2=\"7\" y2=\"-8\" stroke=\"rgb(0, 0, 255)\" />\n",
       "</g>\n",
       "<line x1=\"200.26\" y1=\"162.84\" x2=\"200.30\" y2=\"150.84\" stroke=\"rgb(0, 192, 192)\" />\n",
       "<line x1=\"200.30\" y1=\"150.84\" x2=\"200.34\" y2=\"138.84\" stroke=\"rgb(0, 0, 0)\" />\n",
       "<line x1=\"101.39\" y1=\"101.47\" x2=\"98.65\" y2=\"111.60\" stroke=\"rgb(0, 0, 0)\" />\n",
       "<line x1=\"98.65\" y1=\"111.60\" x2=\"95.92\" y2=\"121.74\" stroke=\"rgb(255, 0, 0)\" />\n",
       "<line x1=\"88.03\" y1=\"51.25\" x2=\"108.31\" y2=\"56.72\" stroke=\"rgb(0, 0, 0)\" /><line x1=\"88.03\" y1=\"51.25\" x2=\"102.91\" y2=\"36.43\" stroke=\"rgb(0, 0, 0)\" /><line x1=\"80.21\" y1=\"80.21\" x2=\"88.03\" y2=\"51.25\" stroke=\"rgb(0, 0, 0)\" /><line x1=\"184.57\" y1=\"189.78\" x2=\"174.16\" y2=\"195.75\" stroke=\"rgb(0, 192, 192)\" />\n",
       "<line x1=\"174.16\" y1=\"195.75\" x2=\"163.74\" y2=\"201.71\" stroke=\"rgb(0, 0, 0)\" />\n",
       "<line x1=\"215.75\" y1=\"189.90\" x2=\"226.12\" y2=\"195.93\" stroke=\"rgb(0, 192, 192)\" />\n",
       "<line x1=\"226.12\" y1=\"195.93\" x2=\"236.49\" y2=\"201.97\" stroke=\"rgb(0, 0, 0)\" />\n",
       "<line x1=\"99.92\" y1=\"136.80\" x2=\"104.16\" y2=\"141.05\" stroke=\"rgb(255, 0, 0)\" />\n",
       "<line x1=\"104.16\" y1=\"141.05\" x2=\"108.40\" y2=\"145.31\" stroke=\"rgb(0, 0, 0)\" />\n",
       "<text x=\"252.04\" y=\"218.02\" font-size=\"14.0\"\n",
       " fill=\"rgb(0, 0, 0)\" text-anchor=\"middle\" >H</text>\n",
       "<text x=\"58.96\" y=\"108.39\" font-size=\"14.0\"\n",
       " fill=\"rgb(0, 0, 255)\" text-anchor=\"middle\" >N</text>\n",
       "<text x=\"109.28\" y=\"37.08\" font-size=\"14.0\"\n",
       " fill=\"rgb(0, 0, 0)\" text-anchor=\"middle\" >H</text>\n",
       "<text x=\"30.00\" y=\"100.58\" font-size=\"14.0\"\n",
       " fill=\"rgb(0, 0, 0)\" text-anchor=\"middle\" >H</text>\n",
       "<text x=\"148.12\" y=\"217.65\" font-size=\"14.0\"\n",
       " fill=\"rgb(0, 0, 0)\" text-anchor=\"middle\" >H</text>\n",
       "<text x=\"130.38\" y=\"100.76\" font-size=\"14.0\"\n",
       " fill=\"rgb(255, 0, 0)\" text-anchor=\"middle\" >O</text>\n",
       "<text x=\"114.75\" y=\"158.68\" font-size=\"14.0\"\n",
       " fill=\"rgb(0, 0, 0)\" text-anchor=\"middle\" >H</text>\n",
       "<text x=\"51.25\" y=\"79.40\" font-size=\"14.0\"\n",
       " fill=\"rgb(0, 0, 0)\" text-anchor=\"middle\" >H</text>\n",
       "<text x=\"66.86\" y=\"37.00\" font-size=\"14.0\"\n",
       " fill=\"rgb(0, 0, 0)\" text-anchor=\"middle\" >H</text>\n",
       "<text x=\"116.99\" y=\"66.07\" font-size=\"14.0\"\n",
       " fill=\"rgb(0, 0, 0)\" text-anchor=\"middle\" >H</text>\n",
       "<text x=\"66.68\" y=\"137.38\" font-size=\"14.0\"\n",
       " fill=\"rgb(0, 0, 0)\" text-anchor=\"middle\" >H</text>\n",
       "<text x=\"200.41\" y=\"127.84\" font-size=\"14.0\"\n",
       " fill=\"rgb(0, 0, 0)\" text-anchor=\"middle\" >H</text>\n",
       "<text x=\"200.19\" y=\"187.84\" font-size=\"14.0\"\n",
       " fill=\"rgb(0, 192, 192)\" text-anchor=\"middle\" >Al</text>\n",
       "<text x=\"93.57\" y=\"137.43\" font-size=\"14.0\"\n",
       " fill=\"rgb(255, 0, 0)\" text-anchor=\"middle\" >O</text>\n",
       "</svg>\n"
      ]
     },
     "metadata": {},
     "output_type": "display_data"
    }
   ],
   "source": [
    "mol = smilestomol(\"O=C([OH])[C@H]([NH2])[CH3].[AlH3]\")\n",
    "molsvg = drawsvg(mol, 150, 150)\n",
    "display(\"image/svg+xml\",  molsvg)"
   ]
  },
  {
   "cell_type": "code",
   "execution_count": 9,
   "metadata": {
    "ExecuteTime": {
     "end_time": "2020-07-29T22:55:36.898000+09:00",
     "start_time": "2020-07-29T13:55:23.051Z"
    }
   },
   "outputs": [
    {
     "data": {
      "image/svg+xml": [
       "<svg xmlns=\"http://www.w3.org/2000/svg\"\n",
       " xmlns:xlink=\"http://www.w3.org/1999/xlink\"\n",
       " version=\"1.2\" baseProfile=\"tiny\"\n",
       " text-rendering=\"geometricPrecision\"\n",
       " preserveAspectRatio=\"xMidYMid meet\"\n",
       " font-weight=\"normal\"\n",
       " font-family=\"Helvetica\"\n",
       " width=\"150\" height=\"150\"\n",
       " viewBox=\"0 0 163.92 272.88\">\n",
       "<rect x=\"0\" y=\"0\" width=\"163.92\" height=\"272.88\"\n",
       " fill=\"rgb(255, 255, 255)\" opacity=\"0.0\"/>\n",
       "<g stroke-width=\"0.3\" transform=\"matrix(-2.90 0.77 -0.12 -0.43 71.46 206.10)\">\n",
       " <line x1=\"0\" y1=\"1\" x2=\"0\" y2=\"-1\" stroke=\"rgb(0, 0, 0)\" />\n",
       " <line x1=\"1\" y1=\"2\" x2=\"1\" y2=\"-2\" stroke=\"rgb(0, 0, 0)\" />\n",
       " <line x1=\"2\" y1=\"3\" x2=\"2\" y2=\"-3\" stroke=\"rgb(0, 0, 0)\" />\n",
       " <line x1=\"3\" y1=\"4\" x2=\"3\" y2=\"-4\" stroke=\"rgb(0, 0, 0)\" />\n",
       " <line x1=\"4\" y1=\"5\" x2=\"4\" y2=\"-5\" stroke=\"rgb(0, 0, 255)\" />\n",
       " <line x1=\"5\" y1=\"6\" x2=\"5\" y2=\"-6\" stroke=\"rgb(0, 0, 255)\" />\n",
       " <line x1=\"6\" y1=\"7\" x2=\"6\" y2=\"-7\" stroke=\"rgb(0, 0, 255)\" />\n",
       " <line x1=\"7\" y1=\"8\" x2=\"7\" y2=\"-8\" stroke=\"rgb(0, 0, 255)\" />\n",
       "</g>\n",
       "<polygon points=\"0,0 1,1 1,-1\" fill=\"rgb(0, 0, 0)\" transform=\"matrix(-5.46 20.28 -3.04 -0.82 71.46 206.10)\"/>\n",
       "<line x1=\"71.46\" y1=\"206.10\" x2=\"63.73\" y2=\"177.12\" stroke=\"rgb(0, 0, 0)\" /><line x1=\"82.13\" y1=\"72.00\" x2=\"82.18\" y2=\"60.00\" stroke=\"rgb(0, 192, 192)\" />\n",
       "<line x1=\"82.18\" y1=\"60.00\" x2=\"82.22\" y2=\"48.00\" stroke=\"rgb(0, 0, 0)\" />\n",
       "<line x1=\"100.43\" y1=\"213.90\" x2=\"103.14\" y2=\"224.04\" stroke=\"rgb(0, 0, 0)\" />\n",
       "<line x1=\"103.14\" y1=\"224.04\" x2=\"105.85\" y2=\"234.19\" stroke=\"rgb(255, 0, 0)\" />\n",
       "<line x1=\"66.45\" y1=\"98.94\" x2=\"56.03\" y2=\"104.90\" stroke=\"rgb(0, 192, 192)\" />\n",
       "<line x1=\"56.03\" y1=\"104.90\" x2=\"45.62\" y2=\"110.87\" stroke=\"rgb(0, 0, 0)\" />\n",
       "<line x1=\"97.62\" y1=\"99.05\" x2=\"107.99\" y2=\"105.09\" stroke=\"rgb(0, 192, 192)\" />\n",
       "<line x1=\"107.99\" y1=\"105.09\" x2=\"118.36\" y2=\"111.13\" stroke=\"rgb(0, 0, 0)\" />\n",
       "<line x1=\"100.43\" y1=\"213.90\" x2=\"71.46\" y2=\"206.10\" stroke=\"rgb(0, 0, 0)\" /><line x1=\"113.70\" y1=\"197.47\" x2=\"106.27\" y2=\"204.89\" stroke=\"rgb(255, 0, 0)\" />\n",
       "<line x1=\"106.27\" y1=\"204.89\" x2=\"98.84\" y2=\"212.30\" stroke=\"rgb(0, 0, 0)\" />\n",
       "<line x1=\"116.88\" y1=\"200.65\" x2=\"109.45\" y2=\"208.07\" stroke=\"rgb(255, 0, 0)\" />\n",
       "<line x1=\"109.45\" y1=\"208.07\" x2=\"102.02\" y2=\"215.49\" stroke=\"rgb(0, 0, 0)\" />\n",
       "<text x=\"63.67\" y=\"242.07\" font-size=\"14.0\"\n",
       " fill=\"rgb(0, 0, 0)\" text-anchor=\"middle\" >H</text>\n",
       "<text x=\"82.07\" y=\"97.00\" font-size=\"14.0\"\n",
       " fill=\"rgb(0, 192, 192)\" text-anchor=\"middle\" >Al</text>\n",
       "<text x=\"121.66\" y=\"199.70\" font-size=\"14.0\"\n",
       " fill=\"rgb(255, 0, 0)\" text-anchor=\"middle\" >O</text>\n",
       "<text x=\"49.47\" y=\"220.84\" font-size=\"14.0\"\n",
       " fill=\"rgb(0, 0, 255)\" text-anchor=\"end\" >H<tspan baseline-shift=\"-25%\" font-size=\"10\">2</tspan>N</text>\n",
       "<text x=\"133.92\" y=\"127.18\" font-size=\"14.0\"\n",
       " fill=\"rgb(0, 0, 0)\" text-anchor=\"middle\" >H</text>\n",
       "<text x=\"30.00\" y=\"126.81\" font-size=\"14.0\"\n",
       " fill=\"rgb(0, 0, 0)\" text-anchor=\"middle\" >H</text>\n",
       "<text x=\"82.28\" y=\"37.00\" font-size=\"14.0\"\n",
       " fill=\"rgb(0, 0, 0)\" text-anchor=\"middle\" >H</text>\n",
       "<text x=\"101.17\" y=\"249.88\" font-size=\"14.0\"\n",
       " fill=\"rgb(255, 0, 0)\" >OH</text>\n",
       "</svg>\n"
      ]
     },
     "metadata": {},
     "output_type": "display_data"
    }
   ],
   "source": [
    "mol = removehydrogens(mol, all=false)\n",
    "molsvg = drawsvg(mol, 150, 150)\n",
    "display(\"image/svg+xml\",  molsvg)"
   ]
  },
  {
   "cell_type": "code",
   "execution_count": 10,
   "metadata": {
    "ExecuteTime": {
     "end_time": "2020-07-29T22:55:36.901000+09:00",
     "start_time": "2020-07-29T13:55:23.052Z"
    }
   },
   "outputs": [
    {
     "data": {
      "image/svg+xml": [
       "<svg xmlns=\"http://www.w3.org/2000/svg\"\n",
       " xmlns:xlink=\"http://www.w3.org/1999/xlink\"\n",
       " version=\"1.2\" baseProfile=\"tiny\"\n",
       " text-rendering=\"geometricPrecision\"\n",
       " preserveAspectRatio=\"xMidYMid meet\"\n",
       " font-weight=\"normal\"\n",
       " font-family=\"Helvetica\"\n",
       " width=\"150\" height=\"150\"\n",
       " viewBox=\"0 0 188.97 157.49\">\n",
       "<rect x=\"0\" y=\"0\" width=\"188.97\" height=\"157.49\"\n",
       " fill=\"rgb(255, 255, 255)\" opacity=\"0.0\"/>\n",
       "<line x1=\"107.01\" y1=\"82.52\" x2=\"106.99\" y2=\"52.51\" stroke=\"rgb(0, 0, 0)\" /><g stroke-width=\"0.3\" transform=\"matrix(-2.60 1.50 -0.23 -0.39 107.01 82.52)\">\n",
       " <line x1=\"0\" y1=\"1\" x2=\"0\" y2=\"-1\" stroke=\"rgb(0, 0, 0)\" />\n",
       " <line x1=\"1\" y1=\"2\" x2=\"1\" y2=\"-2\" stroke=\"rgb(0, 0, 0)\" />\n",
       " <line x1=\"2\" y1=\"3\" x2=\"2\" y2=\"-3\" stroke=\"rgb(0, 0, 0)\" />\n",
       " <line x1=\"3\" y1=\"4\" x2=\"3\" y2=\"-4\" stroke=\"rgb(0, 0, 0)\" />\n",
       " <line x1=\"4\" y1=\"5\" x2=\"4\" y2=\"-5\" stroke=\"rgb(0, 0, 255)\" />\n",
       " <line x1=\"5\" y1=\"6\" x2=\"5\" y2=\"-6\" stroke=\"rgb(0, 0, 255)\" />\n",
       " <line x1=\"6\" y1=\"7\" x2=\"6\" y2=\"-7\" stroke=\"rgb(0, 0, 255)\" />\n",
       " <line x1=\"7\" y1=\"8\" x2=\"7\" y2=\"-8\" stroke=\"rgb(0, 0, 255)\" />\n",
       "</g>\n",
       "<line x1=\"133.00\" y1=\"97.49\" x2=\"133.01\" y2=\"107.99\" stroke=\"rgb(0, 0, 0)\" />\n",
       "<line x1=\"133.01\" y1=\"107.99\" x2=\"133.02\" y2=\"118.49\" stroke=\"rgb(255, 0, 0)\" />\n",
       "<line x1=\"133.00\" y1=\"97.49\" x2=\"107.01\" y2=\"82.52\" stroke=\"rgb(0, 0, 0)\" /><line x1=\"150.06\" y1=\"85.03\" x2=\"140.97\" y2=\"90.29\" stroke=\"rgb(255, 0, 0)\" />\n",
       "<line x1=\"140.97\" y1=\"90.29\" x2=\"131.88\" y2=\"95.54\" stroke=\"rgb(0, 0, 0)\" />\n",
       "<line x1=\"152.31\" y1=\"88.93\" x2=\"143.22\" y2=\"94.18\" stroke=\"rgb(255, 0, 0)\" />\n",
       "<line x1=\"143.22\" y1=\"94.18\" x2=\"134.13\" y2=\"99.44\" stroke=\"rgb(0, 0, 0)\" />\n",
       "<text x=\"88.04\" y=\"104.53\" font-size=\"14.0\"\n",
       " fill=\"rgb(0, 0, 255)\" text-anchor=\"end\" >H<tspan baseline-shift=\"-25%\" font-size=\"10\">2</tspan>N</text>\n",
       "<text x=\"30.00\" y=\"37.00\" font-size=\"14.0\"\n",
       " fill=\"rgb(0, 192, 192)\" text-anchor=\"middle\" >Al</text>\n",
       "<text x=\"126.03\" y=\"134.49\" font-size=\"14.0\"\n",
       " fill=\"rgb(255, 0, 0)\" >OH</text>\n",
       "<text x=\"158.97\" y=\"89.47\" font-size=\"14.0\"\n",
       " fill=\"rgb(255, 0, 0)\" text-anchor=\"middle\" >O</text>\n",
       "</svg>\n"
      ]
     },
     "metadata": {},
     "output_type": "display_data"
    }
   ],
   "source": [
    "mol = removehydrogens(mol)  # all=true\n",
    "molsvg = drawsvg(mol, 150, 150)\n",
    "display(\"image/svg+xml\",  molsvg)"
   ]
  },
  {
   "cell_type": "markdown",
   "metadata": {},
   "source": [
    "## Dealing with stereochemistry\n",
    "\n",
    "One more thing `smilestomol` and `sdftomol` will automatically do by default is standardization of stereochemistry notation.\n",
    "\n",
    "`setstereocenter!` sets stereocenter information to `Atom.stereo` by the same rule as SMILES notation (looking from the lowest indexed atom, 2nd, 3rd, 4th atoms are in clockwise/anticlockwise order). The values are `:clockwise`, `:anticlockwise`, `unspecified` or `atypical`.  If there is implicit hydrogens involved in stereochemistry, its index order priority is considered as same as the atom that the hydrogen is attached. `setstereocenter!` will be called inside `sdftomol` method.\n",
    "\n",
    "`setdiastereo!` sets diastereomerism information to `Bond.stereo` of double bonds. `:cis`, `:trans` or `:unspecified` will be set according cis/trans configuration of atom nodes at each side of the double bond (If there is two atom nodes on  one side, that of the lower indexed atom node). `setdiastereo!` will be called inside `sdftomol` and `smilestomol` methods."
   ]
  },
  {
   "cell_type": "code",
   "execution_count": 11,
   "metadata": {
    "ExecuteTime": {
     "end_time": "2020-07-29T22:55:36.912000+09:00",
     "start_time": "2020-07-29T13:55:23.054Z"
    }
   },
   "outputs": [
    {
     "data": {
      "image/svg+xml": [
       "<svg xmlns=\"http://www.w3.org/2000/svg\"\n",
       " xmlns:xlink=\"http://www.w3.org/1999/xlink\"\n",
       " version=\"1.2\" baseProfile=\"tiny\"\n",
       " text-rendering=\"geometricPrecision\"\n",
       " preserveAspectRatio=\"xMidYMid meet\"\n",
       " font-weight=\"normal\"\n",
       " font-family=\"Helvetica\"\n",
       " width=\"150\" height=\"150\"\n",
       " viewBox=\"0 0 215.90 105.02\">\n",
       "<rect x=\"0\" y=\"0\" width=\"215.90\" height=\"105.02\"\n",
       " fill=\"rgb(255, 255, 255)\" opacity=\"0.0\"/>\n",
       "<line x1=\"107.94\" y1=\"74.98\" x2=\"81.97\" y2=\"59.96\" stroke=\"rgb(0, 0, 0)\" /><line x1=\"133.93\" y1=\"60.00\" x2=\"107.94\" y2=\"74.98\" stroke=\"rgb(0, 0, 0)\" /><line x1=\"129.08\" y1=\"57.60\" x2=\"108.29\" y2=\"69.58\" stroke=\"rgb(0, 0, 0)\" /><line x1=\"81.97\" y1=\"59.96\" x2=\"55.98\" y2=\"74.94\" stroke=\"rgb(0, 0, 0)\" /><line x1=\"77.12\" y1=\"57.56\" x2=\"56.33\" y2=\"69.54\" stroke=\"rgb(0, 0, 0)\" /><line x1=\"55.98\" y1=\"74.94\" x2=\"30.00\" y2=\"59.92\" stroke=\"rgb(0, 0, 0)\" /><line x1=\"133.93\" y1=\"60.00\" x2=\"159.90\" y2=\"75.02\" stroke=\"rgb(0, 0, 0)\" /><line x1=\"159.90\" y1=\"75.02\" x2=\"169.00\" y2=\"69.78\" stroke=\"rgb(0, 0, 0)\" />\n",
       "<line x1=\"169.00\" y1=\"69.78\" x2=\"178.10\" y2=\"64.54\" stroke=\"rgb(255, 0, 0)\" />\n",
       "<line x1=\"133.95\" y1=\"30.00\" x2=\"133.93\" y2=\"60.00\" stroke=\"rgb(0, 0, 0)\" /><text x=\"178.90\" y=\"67.04\" font-size=\"14.0\"\n",
       " fill=\"rgb(255, 0, 0)\" >OH</text>\n",
       "</svg>\n"
      ]
     },
     "metadata": {},
     "output_type": "display_data"
    }
   ],
   "source": [
    "mol = smilestomol(\"C\\\\C(CO)=C/C=C/C\")\n",
    "setdiastereo!(mol)\n",
    "molsvg = drawsvg(mol, 150, 150)\n",
    "display(\"image/svg+xml\",  molsvg)"
   ]
  },
  {
   "cell_type": "markdown",
   "metadata": {},
   "source": [
    "Hydrogen nodes attached to the stereocenters can be removed by `removestereohydrogens` with keeping stereochemistry. Similary, explicit hydrogen nodes can be attached to the stereocenters by `addstereohydrogen`. As newly added hydrogen does not have coordinates information, `forcecoordgen=true` option is necessary for `drawsvg` to recalculate 2D coordinates of all atoms.\n",
    "\n",
    "Note that `removehydrogens(mol, all=true)` can break stereochemistry of the molecule. Make sure to call `removestereohydrogens` before that if you want to work on stereochemistry."
   ]
  },
  {
   "cell_type": "code",
   "execution_count": 12,
   "metadata": {
    "ExecuteTime": {
     "end_time": "2020-07-29T22:55:38.935000+09:00",
     "start_time": "2020-07-29T13:55:23.056Z"
    }
   },
   "outputs": [
    {
     "data": {
      "image/svg+xml": [
       "<svg xmlns=\"http://www.w3.org/2000/svg\"\n",
       " xmlns:xlink=\"http://www.w3.org/1999/xlink\"\n",
       " version=\"1.2\" baseProfile=\"tiny\"\n",
       " text-rendering=\"geometricPrecision\"\n",
       " preserveAspectRatio=\"xMidYMid meet\"\n",
       " font-weight=\"normal\"\n",
       " font-family=\"Helvetica\"\n",
       " width=\"150\" height=\"150\"\n",
       " viewBox=\"0 0 109.24 105.26\">\n",
       "<rect x=\"0\" y=\"0\" width=\"109.24\" height=\"105.26\"\n",
       " fill=\"rgb(255, 255, 255)\" opacity=\"0.0\"/>\n",
       "<line x1=\"52.54\" y1=\"57.48\" x2=\"44.65\" y2=\"63.56\" stroke=\"rgb(0, 0, 0)\" />\n",
       "<line x1=\"44.65\" y1=\"63.56\" x2=\"36.76\" y2=\"69.65\" stroke=\"rgb(255, 0, 0)\" />\n",
       "<g stroke=\"rgb(0, 0, 0)\" stroke-width=\"0.3\" transform=\"matrix(1.55 -2.75 0.41 0.23 52.54 57.48)\">\n",
       " <line x1=\"0\" y1=\"1\" x2=\"0\" y2=\"-1\" />\n",
       " <line x1=\"1\" y1=\"2\" x2=\"1\" y2=\"-2\" />\n",
       " <line x1=\"2\" y1=\"3\" x2=\"2\" y2=\"-3\" />\n",
       " <line x1=\"3\" y1=\"4\" x2=\"3\" y2=\"-4\" />\n",
       " <line x1=\"4\" y1=\"5\" x2=\"4\" y2=\"-5\" />\n",
       " <line x1=\"5\" y1=\"6\" x2=\"5\" y2=\"-6\" />\n",
       " <line x1=\"6\" y1=\"7\" x2=\"6\" y2=\"-7\" />\n",
       " <line x1=\"7\" y1=\"8\" x2=\"7\" y2=\"-8\" />\n",
       "</g>\n",
       "<line x1=\"52.54\" y1=\"57.48\" x2=\"61.89\" y2=\"63.70\" stroke=\"rgb(0, 0, 0)\" />\n",
       "<line x1=\"61.89\" y1=\"63.70\" x2=\"71.23\" y2=\"69.92\" stroke=\"rgb(0, 0, 255)\" />\n",
       "<polygon points=\"0,0 1,1 1,-1\" fill=\"rgb(0, 0, 0)\" transform=\"matrix(-9.28 -22.83 3.42 -1.39 52.54 57.48)\"/>\n",
       "<text x=\"37.00\" y=\"81.87\" font-size=\"14.0\"\n",
       " fill=\"rgb(255, 0, 0)\" text-anchor=\"end\" >HO</text>\n",
       "<text x=\"72.24\" y=\"82.26\" font-size=\"14.0\"\n",
       " fill=\"rgb(0, 0, 255)\" >NH<tspan baseline-shift=\"-25%\" font-size=\"10\">2</tspan></text>\n",
       "<text x=\"68.00\" y=\"37.00\" font-size=\"14.0\"\n",
       " fill=\"rgb(0, 0, 0)\" text-anchor=\"middle\" >H</text>\n",
       "</svg>\n"
      ]
     },
     "metadata": {},
     "output_type": "display_data"
    }
   ],
   "source": [
    "mol = sdftomol(split(\"\"\"\n",
    "\n",
    "\n",
    "\n",
    "  5  4  0  0  0  0  0  0  0  0999 V2000\n",
    "   -4.1517    0.8937    0.0000 C   0  0  0  0  0  0  0  0  0  0  0  0\n",
    "   -3.7055    1.6866    0.0000 H   0  0  0  0  0  0  0  0  0  0  0  0\n",
    "   -4.4194    1.5526    0.0000 C   0  0  0  0  0  0  0  0  0  0  0  0\n",
    "   -3.3812    0.3805    0.0000 N   0  0  0  0  0  0  0  0  0  0  0  0\n",
    "   -4.8022    0.3917    0.0000 O   0  0  0  0  0  0  0  0  0  0  0  0\n",
    "  1  3  1  1  0  0  0\n",
    "  1  2  1  6  0  0  0\n",
    "  1  4  1  0  0  0  0\n",
    "  1  5  1  0  0  0  0\n",
    "M  END\"\"\", \"\\n\"))\n",
    "molsvg = drawsvg(mol, 150, 150)\n",
    "display(\"image/svg+xml\",  molsvg)"
   ]
  },
  {
   "cell_type": "code",
   "execution_count": 13,
   "metadata": {
    "ExecuteTime": {
     "end_time": "2020-07-29T22:55:39.317000+09:00",
     "start_time": "2020-07-29T13:55:23.057Z"
    }
   },
   "outputs": [
    {
     "data": {
      "image/svg+xml": [
       "<svg xmlns=\"http://www.w3.org/2000/svg\"\n",
       " xmlns:xlink=\"http://www.w3.org/1999/xlink\"\n",
       " version=\"1.2\" baseProfile=\"tiny\"\n",
       " text-rendering=\"geometricPrecision\"\n",
       " preserveAspectRatio=\"xMidYMid meet\"\n",
       " font-weight=\"normal\"\n",
       " font-family=\"Helvetica\"\n",
       " width=\"150\" height=\"150\"\n",
       " viewBox=\"0 0 111.96 105.09\">\n",
       "<rect x=\"0\" y=\"0\" width=\"111.96\" height=\"105.09\"\n",
       " fill=\"rgb(255, 255, 255)\" opacity=\"0.0\"/>\n",
       "<line x1=\"56.04\" y1=\"60.00\" x2=\"65.11\" y2=\"65.28\" stroke=\"rgb(0, 0, 0)\" />\n",
       "<line x1=\"65.11\" y1=\"65.28\" x2=\"74.18\" y2=\"70.57\" stroke=\"rgb(0, 0, 255)\" />\n",
       "<g stroke-width=\"0.3\" transform=\"matrix(0.01 -3.00 0.45 0.00 56.04 60.00)\">\n",
       " <line x1=\"0\" y1=\"1\" x2=\"0\" y2=\"-1\" stroke=\"rgb(0, 0, 0)\" />\n",
       " <line x1=\"1\" y1=\"2\" x2=\"1\" y2=\"-2\" stroke=\"rgb(0, 0, 0)\" />\n",
       " <line x1=\"2\" y1=\"3\" x2=\"2\" y2=\"-3\" stroke=\"rgb(0, 0, 0)\" />\n",
       " <line x1=\"3\" y1=\"4\" x2=\"3\" y2=\"-4\" stroke=\"rgb(0, 0, 0)\" />\n",
       " <line x1=\"4\" y1=\"5\" x2=\"4\" y2=\"-5\" stroke=\"rgb(255, 0, 0)\" />\n",
       " <line x1=\"5\" y1=\"6\" x2=\"5\" y2=\"-6\" stroke=\"rgb(255, 0, 0)\" />\n",
       " <line x1=\"6\" y1=\"7\" x2=\"6\" y2=\"-7\" stroke=\"rgb(255, 0, 0)\" />\n",
       " <line x1=\"7\" y1=\"8\" x2=\"7\" y2=\"-8\" stroke=\"rgb(255, 0, 0)\" />\n",
       "</g>\n",
       "<line x1=\"56.04\" y1=\"60.00\" x2=\"30.00\" y2=\"74.91\" stroke=\"rgb(0, 0, 0)\" /><text x=\"49.14\" y=\"37.00\" font-size=\"14.0\"\n",
       " fill=\"rgb(255, 0, 0)\" >OH</text>\n",
       "<text x=\"74.96\" y=\"82.09\" font-size=\"14.0\"\n",
       " fill=\"rgb(0, 0, 255)\" >NH<tspan baseline-shift=\"-25%\" font-size=\"10\">2</tspan></text>\n",
       "</svg>\n"
      ]
     },
     "metadata": {},
     "output_type": "display_data"
    }
   ],
   "source": [
    "mol = removestereohydrogens(mol)\n",
    "molsvg = drawsvg(mol, 150, 150; forcecoordgen=true)\n",
    "display(\"image/svg+xml\",  molsvg)"
   ]
  },
  {
   "cell_type": "code",
   "execution_count": 14,
   "metadata": {
    "ExecuteTime": {
     "end_time": "2020-07-29T22:55:39.539000+09:00",
     "start_time": "2020-07-29T13:55:23.058Z"
    }
   },
   "outputs": [
    {
     "data": {
      "image/svg+xml": [
       "<svg xmlns=\"http://www.w3.org/2000/svg\"\n",
       " xmlns:xlink=\"http://www.w3.org/1999/xlink\"\n",
       " version=\"1.2\" baseProfile=\"tiny\"\n",
       " text-rendering=\"geometricPrecision\"\n",
       " preserveAspectRatio=\"xMidYMid meet\"\n",
       " font-weight=\"normal\"\n",
       " font-family=\"Helvetica\"\n",
       " width=\"150\" height=\"150\"\n",
       " viewBox=\"0 0 111.96 101.16\">\n",
       "<rect x=\"0\" y=\"0\" width=\"111.96\" height=\"101.16\"\n",
       " fill=\"rgb(255, 255, 255)\" opacity=\"0.0\"/>\n",
       "<polygon points=\"0,0 1,1 1,-1\" fill=\"rgb(0, 0, 0)\" transform=\"matrix(10.58 -18.14 2.72 1.59 56.05 56.05)\"/>\n",
       "<line x1=\"56.05\" y1=\"56.05\" x2=\"65.12\" y2=\"61.34\" stroke=\"rgb(0, 0, 0)\" />\n",
       "<line x1=\"65.12\" y1=\"61.34\" x2=\"74.19\" y2=\"66.63\" stroke=\"rgb(0, 0, 255)\" />\n",
       "<g stroke-width=\"0.3\" transform=\"matrix(-1.49 -2.60 0.39 -0.22 56.05 56.05)\">\n",
       " <line x1=\"0\" y1=\"1\" x2=\"0\" y2=\"-1\" stroke=\"rgb(0, 0, 0)\" />\n",
       " <line x1=\"1\" y1=\"2\" x2=\"1\" y2=\"-2\" stroke=\"rgb(0, 0, 0)\" />\n",
       " <line x1=\"2\" y1=\"3\" x2=\"2\" y2=\"-3\" stroke=\"rgb(0, 0, 0)\" />\n",
       " <line x1=\"3\" y1=\"4\" x2=\"3\" y2=\"-4\" stroke=\"rgb(0, 0, 0)\" />\n",
       " <line x1=\"4\" y1=\"5\" x2=\"4\" y2=\"-5\" stroke=\"rgb(255, 0, 0)\" />\n",
       " <line x1=\"5\" y1=\"6\" x2=\"5\" y2=\"-6\" stroke=\"rgb(255, 0, 0)\" />\n",
       " <line x1=\"6\" y1=\"7\" x2=\"6\" y2=\"-7\" stroke=\"rgb(255, 0, 0)\" />\n",
       " <line x1=\"7\" y1=\"8\" x2=\"7\" y2=\"-8\" stroke=\"rgb(255, 0, 0)\" />\n",
       "</g>\n",
       "<line x1=\"56.05\" y1=\"56.05\" x2=\"30.00\" y2=\"70.93\" stroke=\"rgb(0, 0, 0)\" /><text x=\"48.16\" y=\"37.00\" font-size=\"14.0\"\n",
       " fill=\"rgb(255, 0, 0)\" text-anchor=\"end\" >HO</text>\n",
       "<text x=\"74.96\" y=\"78.16\" font-size=\"14.0\"\n",
       " fill=\"rgb(0, 0, 255)\" >NH<tspan baseline-shift=\"-25%\" font-size=\"10\">2</tspan></text>\n",
       "<text x=\"71.16\" y=\"37.13\" font-size=\"14.0\"\n",
       " fill=\"rgb(0, 0, 0)\" text-anchor=\"middle\" >H</text>\n",
       "</svg>\n"
      ]
     },
     "metadata": {},
     "output_type": "display_data"
    }
   ],
   "source": [
    "mol = addstereohydrogens(mol)\n",
    "molsvg = drawsvg(mol, 150, 150; forcecoordgen=true)\n",
    "display(\"image/svg+xml\",  molsvg)"
   ]
  },
  {
   "cell_type": "markdown",
   "metadata": {},
   "source": [
    "## Unifying representation of charges and delocalized electrons\n",
    "\n",
    "Many oxoacids and oniums that are ionized in physiological condition have variations of charge state in actual chemical structure data (e.g free acid or salt). In practice, these molecules are often formatted to uncharged molecule for consistency. `protonateacids!` and `deprotonateoniums!` are convenient methods for this purpose."
   ]
  },
  {
   "cell_type": "code",
   "execution_count": 15,
   "metadata": {
    "ExecuteTime": {
     "end_time": "2020-07-29T22:55:39.543000+09:00",
     "start_time": "2020-07-29T13:55:23.060Z"
    }
   },
   "outputs": [
    {
     "data": {
      "image/svg+xml": [
       "<svg xmlns=\"http://www.w3.org/2000/svg\"\n",
       " xmlns:xlink=\"http://www.w3.org/1999/xlink\"\n",
       " version=\"1.2\" baseProfile=\"tiny\"\n",
       " text-rendering=\"geometricPrecision\"\n",
       " preserveAspectRatio=\"xMidYMid meet\"\n",
       " font-weight=\"normal\"\n",
       " font-family=\"Helvetica\"\n",
       " width=\"200\" height=\"200\"\n",
       " viewBox=\"0 0 189.92 190.08\">\n",
       "<rect x=\"0\" y=\"0\" width=\"189.92\" height=\"190.08\"\n",
       " fill=\"rgb(255, 255, 255)\" opacity=\"0.0\"/>\n",
       "<line x1=\"116.61\" y1=\"60.00\" x2=\"125.71\" y2=\"65.23\" stroke=\"rgb(0, 0, 0)\" />\n",
       "<line x1=\"125.71\" y1=\"65.23\" x2=\"134.81\" y2=\"70.46\" stroke=\"rgb(255, 0, 0)\" />\n",
       "<line x1=\"118.86\" y1=\"60.00\" x2=\"118.84\" y2=\"49.50\" stroke=\"rgb(0, 0, 0)\" />\n",
       "<line x1=\"118.84\" y1=\"49.50\" x2=\"118.81\" y2=\"39.00\" stroke=\"rgb(255, 0, 0)\" />\n",
       "<line x1=\"114.36\" y1=\"60.01\" x2=\"114.34\" y2=\"49.51\" stroke=\"rgb(0, 0, 0)\" />\n",
       "<line x1=\"114.34\" y1=\"49.51\" x2=\"114.31\" y2=\"39.01\" stroke=\"rgb(255, 0, 0)\" />\n",
       "<line x1=\"152.12\" y1=\"149.60\" x2=\"143.02\" y2=\"154.84\" stroke=\"rgb(0, 0, 255)\" />\n",
       "<line x1=\"143.02\" y1=\"154.84\" x2=\"133.93\" y2=\"160.08\" stroke=\"rgb(0, 0, 0)\" />\n",
       "<line x1=\"133.93\" y1=\"160.08\" x2=\"107.96\" y2=\"145.06\" stroke=\"rgb(0, 0, 0)\" /><line x1=\"64.64\" y1=\"60.10\" x2=\"90.65\" y2=\"75.06\" stroke=\"rgb(0, 0, 0)\" /><line x1=\"55.99\" y1=\"145.02\" x2=\"46.90\" y2=\"150.26\" stroke=\"rgb(0, 0, 0)\" />\n",
       "<line x1=\"46.90\" y1=\"150.26\" x2=\"37.80\" y2=\"155.50\" stroke=\"rgb(0, 0, 255)\" />\n",
       "<line x1=\"81.96\" y1=\"160.04\" x2=\"55.99\" y2=\"145.02\" stroke=\"rgb(0, 0, 0)\" /><line x1=\"107.96\" y1=\"145.06\" x2=\"81.96\" y2=\"160.04\" stroke=\"rgb(0, 0, 0)\" /><line x1=\"90.65\" y1=\"75.06\" x2=\"116.61\" y2=\"60.00\" stroke=\"rgb(0, 0, 0)\" /><line x1=\"38.69\" y1=\"75.16\" x2=\"64.64\" y2=\"60.10\" stroke=\"rgb(0, 0, 0)\" /><text x=\"116.55\" y=\"37.00\" font-size=\"14.0\"\n",
       " fill=\"rgb(255, 0, 0)\" text-anchor=\"middle\" >O</text>\n",
       "<text x=\"152.92\" y=\"152.10\" font-size=\"14.0\"\n",
       " fill=\"rgb(0, 0, 255)\" >NH<tspan baseline-shift=\"-25%\" font-size=\"10\">3</tspan><tspan baseline-shift=\"50%\" font-size=\"10\">+</tspan></text>\n",
       "<text x=\"37.00\" y=\"167.00\" font-size=\"14.0\"\n",
       " fill=\"rgb(0, 0, 255)\" text-anchor=\"end\" ><tspan baseline-shift=\"50%\" font-size=\"10\">+</tspan>H<tspan baseline-shift=\"-25%\" font-size=\"10\">3</tspan>N</text>\n",
       "<text x=\"142.62\" y=\"81.95\" font-size=\"14.0\"\n",
       " fill=\"rgb(255, 0, 0)\" text-anchor=\"middle\" >O<tspan baseline-shift=\"50%\" font-size=\"10\">–</tspan></text>\n",
       "</svg>\n"
      ]
     },
     "metadata": {},
     "output_type": "display_data"
    }
   ],
   "source": [
    "mol = smilestomol(\"CCCC(=O)[O-].[N+]CCCC[N+]\")\n",
    "molsvg = drawsvg(mol, 200, 200)\n",
    "display(\"image/svg+xml\",  molsvg)"
   ]
  },
  {
   "cell_type": "code",
   "execution_count": 16,
   "metadata": {
    "ExecuteTime": {
     "end_time": "2020-07-29T22:55:39.701000+09:00",
     "start_time": "2020-07-29T13:55:23.062Z"
    }
   },
   "outputs": [
    {
     "data": {
      "image/svg+xml": [
       "<svg xmlns=\"http://www.w3.org/2000/svg\"\n",
       " xmlns:xlink=\"http://www.w3.org/1999/xlink\"\n",
       " version=\"1.2\" baseProfile=\"tiny\"\n",
       " text-rendering=\"geometricPrecision\"\n",
       " preserveAspectRatio=\"xMidYMid meet\"\n",
       " font-weight=\"normal\"\n",
       " font-family=\"Helvetica\"\n",
       " width=\"200\" height=\"200\"\n",
       " viewBox=\"0 0 189.92 190.08\">\n",
       "<rect x=\"0\" y=\"0\" width=\"189.92\" height=\"190.08\"\n",
       " fill=\"rgb(255, 255, 255)\" opacity=\"0.0\"/>\n",
       "<line x1=\"116.61\" y1=\"60.00\" x2=\"125.71\" y2=\"65.23\" stroke=\"rgb(0, 0, 0)\" />\n",
       "<line x1=\"125.71\" y1=\"65.23\" x2=\"134.81\" y2=\"70.46\" stroke=\"rgb(255, 0, 0)\" />\n",
       "<line x1=\"118.86\" y1=\"60.00\" x2=\"118.84\" y2=\"49.50\" stroke=\"rgb(0, 0, 0)\" />\n",
       "<line x1=\"118.84\" y1=\"49.50\" x2=\"118.81\" y2=\"39.00\" stroke=\"rgb(255, 0, 0)\" />\n",
       "<line x1=\"114.36\" y1=\"60.01\" x2=\"114.34\" y2=\"49.51\" stroke=\"rgb(0, 0, 0)\" />\n",
       "<line x1=\"114.34\" y1=\"49.51\" x2=\"114.31\" y2=\"39.01\" stroke=\"rgb(255, 0, 0)\" />\n",
       "<line x1=\"152.12\" y1=\"149.60\" x2=\"143.02\" y2=\"154.84\" stroke=\"rgb(0, 0, 255)\" />\n",
       "<line x1=\"143.02\" y1=\"154.84\" x2=\"133.93\" y2=\"160.08\" stroke=\"rgb(0, 0, 0)\" />\n",
       "<line x1=\"133.93\" y1=\"160.08\" x2=\"107.96\" y2=\"145.06\" stroke=\"rgb(0, 0, 0)\" /><line x1=\"64.64\" y1=\"60.10\" x2=\"90.65\" y2=\"75.06\" stroke=\"rgb(0, 0, 0)\" /><line x1=\"55.99\" y1=\"145.02\" x2=\"46.90\" y2=\"150.26\" stroke=\"rgb(0, 0, 0)\" />\n",
       "<line x1=\"46.90\" y1=\"150.26\" x2=\"37.80\" y2=\"155.50\" stroke=\"rgb(0, 0, 255)\" />\n",
       "<line x1=\"81.96\" y1=\"160.04\" x2=\"55.99\" y2=\"145.02\" stroke=\"rgb(0, 0, 0)\" /><line x1=\"107.96\" y1=\"145.06\" x2=\"81.96\" y2=\"160.04\" stroke=\"rgb(0, 0, 0)\" /><line x1=\"90.65\" y1=\"75.06\" x2=\"116.61\" y2=\"60.00\" stroke=\"rgb(0, 0, 0)\" /><line x1=\"38.69\" y1=\"75.16\" x2=\"64.64\" y2=\"60.10\" stroke=\"rgb(0, 0, 0)\" /><text x=\"116.55\" y=\"37.00\" font-size=\"14.0\"\n",
       " fill=\"rgb(255, 0, 0)\" text-anchor=\"middle\" >O</text>\n",
       "<text x=\"152.92\" y=\"152.10\" font-size=\"14.0\"\n",
       " fill=\"rgb(0, 0, 255)\" >NH<tspan baseline-shift=\"-25%\" font-size=\"10\">2</tspan></text>\n",
       "<text x=\"37.00\" y=\"167.00\" font-size=\"14.0\"\n",
       " fill=\"rgb(0, 0, 255)\" text-anchor=\"end\" >H<tspan baseline-shift=\"-25%\" font-size=\"10\">2</tspan>N</text>\n",
       "<text x=\"135.62\" y=\"81.95\" font-size=\"14.0\"\n",
       " fill=\"rgb(255, 0, 0)\" >OH</text>\n",
       "</svg>\n"
      ]
     },
     "metadata": {},
     "output_type": "display_data"
    }
   ],
   "source": [
    "protonateacids!(mol)\n",
    "deprotonateoniums!(mol)\n",
    "molsvg = drawsvg(mol, 200, 200)\n",
    "display(\"image/svg+xml\",  molsvg)"
   ]
  },
  {
   "cell_type": "markdown",
   "metadata": {},
   "source": [
    "Resonance structures that are often used to describe electron delocalization can be a cause of variation in molecular graph expression.　`depolarize!` and `toallenelike!` may work well for unification of the expression."
   ]
  },
  {
   "cell_type": "code",
   "execution_count": 17,
   "metadata": {
    "ExecuteTime": {
     "end_time": "2020-07-29T22:55:39.730000+09:00",
     "start_time": "2020-07-29T13:55:23.063Z"
    }
   },
   "outputs": [
    {
     "data": {
      "image/svg+xml": [
       "<svg xmlns=\"http://www.w3.org/2000/svg\"\n",
       " xmlns:xlink=\"http://www.w3.org/1999/xlink\"\n",
       " version=\"1.2\" baseProfile=\"tiny\"\n",
       " text-rendering=\"geometricPrecision\"\n",
       " preserveAspectRatio=\"xMidYMid meet\"\n",
       " font-weight=\"normal\"\n",
       " font-family=\"Helvetica\"\n",
       " width=\"200\" height=\"200\"\n",
       " viewBox=\"0 0 135.11 192.96\">\n",
       "<rect x=\"0\" y=\"0\" width=\"135.11\" height=\"192.96\"\n",
       " fill=\"rgb(255, 255, 255)\" opacity=\"0.0\"/>\n",
       "<line x1=\"81.00\" y1=\"162.92\" x2=\"69.00\" y2=\"162.86\" stroke=\"rgb(0, 0, 255)\" /><line x1=\"105.11\" y1=\"137.04\" x2=\"99.82\" y2=\"146.11\" stroke=\"rgb(0, 0, 0)\" />\n",
       "<line x1=\"99.82\" y1=\"146.11\" x2=\"94.53\" y2=\"155.18\" stroke=\"rgb(0, 0, 255)\" />\n",
       "<line x1=\"51.00\" y1=\"162.78\" x2=\"39.00\" y2=\"162.73\" stroke=\"rgb(0, 0, 255)\" /><line x1=\"51.02\" y1=\"158.28\" x2=\"39.02\" y2=\"158.23\" stroke=\"rgb(0, 0, 255)\" /><line x1=\"50.98\" y1=\"167.28\" x2=\"38.98\" y2=\"167.23\" stroke=\"rgb(0, 0, 255)\" /><line x1=\"67.59\" y1=\"51.00\" x2=\"67.61\" y2=\"45.00\" stroke=\"rgb(0, 0, 0)\" />\n",
       "<line x1=\"67.61\" y1=\"45.00\" x2=\"67.63\" y2=\"39.00\" stroke=\"rgb(255, 0, 0)\" />\n",
       "<line x1=\"59.75\" y1=\"64.47\" x2=\"41.52\" y2=\"74.90\" stroke=\"rgb(0, 0, 0)\" /><line x1=\"93.48\" y1=\"75.09\" x2=\"75.34\" y2=\"64.53\" stroke=\"rgb(0, 0, 0)\" /><text x=\"90.00\" y=\"169.96\" font-size=\"14.0\"\n",
       " fill=\"rgb(0, 0, 255)\" text-anchor=\"middle\" >N<tspan baseline-shift=\"50%\" font-size=\"10\">–</tspan></text>\n",
       "<text x=\"60.00\" y=\"169.82\" font-size=\"14.0\"\n",
       " fill=\"rgb(0, 0, 255)\" text-anchor=\"middle\" >N<tspan baseline-shift=\"50%\" font-size=\"10\">+</tspan></text>\n",
       "<text x=\"67.56\" y=\"67.00\" font-size=\"14.0\"\n",
       " fill=\"rgb(0, 0, 0)\" text-anchor=\"middle\" >C<tspan baseline-shift=\"50%\" font-size=\"10\">+</tspan></text>\n",
       "<text x=\"30.00\" y=\"169.69\" font-size=\"14.0\"\n",
       " fill=\"rgb(0, 0, 255)\" text-anchor=\"middle\" >N</text>\n",
       "<text x=\"67.67\" y=\"37.00\" font-size=\"14.0\"\n",
       " fill=\"rgb(255, 0, 0)\" text-anchor=\"middle\" >O<tspan baseline-shift=\"50%\" font-size=\"10\">–</tspan></text>\n",
       "</svg>\n"
      ]
     },
     "metadata": {},
     "output_type": "display_data"
    }
   ],
   "source": [
    "mol = smilestomol(\"C[C+]([O-])C.C[N-][N+]#N\")\n",
    "molsvg = drawsvg(mol, 200, 200)\n",
    "display(\"image/svg+xml\",  molsvg)"
   ]
  },
  {
   "cell_type": "code",
   "execution_count": 18,
   "metadata": {
    "ExecuteTime": {
     "end_time": "2020-07-29T22:55:40.501000+09:00",
     "start_time": "2020-07-29T13:55:23.065Z"
    }
   },
   "outputs": [
    {
     "data": {
      "image/svg+xml": [
       "<svg xmlns=\"http://www.w3.org/2000/svg\"\n",
       " xmlns:xlink=\"http://www.w3.org/1999/xlink\"\n",
       " version=\"1.2\" baseProfile=\"tiny\"\n",
       " text-rendering=\"geometricPrecision\"\n",
       " preserveAspectRatio=\"xMidYMid meet\"\n",
       " font-weight=\"normal\"\n",
       " font-family=\"Helvetica\"\n",
       " width=\"200\" height=\"200\"\n",
       " viewBox=\"0 0 135.11 192.96\">\n",
       "<rect x=\"0\" y=\"0\" width=\"135.11\" height=\"192.96\"\n",
       " fill=\"rgb(255, 255, 255)\" opacity=\"0.0\"/>\n",
       "<line x1=\"81.01\" y1=\"160.67\" x2=\"69.01\" y2=\"160.61\" stroke=\"rgb(0, 0, 255)\" /><line x1=\"80.99\" y1=\"165.17\" x2=\"68.99\" y2=\"165.11\" stroke=\"rgb(0, 0, 255)\" /><line x1=\"105.11\" y1=\"137.04\" x2=\"99.82\" y2=\"146.11\" stroke=\"rgb(0, 0, 0)\" />\n",
       "<line x1=\"99.82\" y1=\"146.11\" x2=\"94.53\" y2=\"155.18\" stroke=\"rgb(0, 0, 255)\" />\n",
       "<line x1=\"51.01\" y1=\"160.53\" x2=\"39.01\" y2=\"160.48\" stroke=\"rgb(0, 0, 255)\" /><line x1=\"50.99\" y1=\"165.03\" x2=\"38.99\" y2=\"164.98\" stroke=\"rgb(0, 0, 255)\" /><line x1=\"69.81\" y1=\"60.01\" x2=\"69.84\" y2=\"49.51\" stroke=\"rgb(0, 0, 0)\" />\n",
       "<line x1=\"69.84\" y1=\"49.51\" x2=\"69.88\" y2=\"39.01\" stroke=\"rgb(255, 0, 0)\" />\n",
       "<line x1=\"65.31\" y1=\"59.99\" x2=\"65.35\" y2=\"49.49\" stroke=\"rgb(0, 0, 0)\" />\n",
       "<line x1=\"65.35\" y1=\"49.49\" x2=\"65.38\" y2=\"38.99\" stroke=\"rgb(255, 0, 0)\" />\n",
       "<line x1=\"67.56\" y1=\"60.00\" x2=\"41.52\" y2=\"74.90\" stroke=\"rgb(0, 0, 0)\" /><line x1=\"93.48\" y1=\"75.09\" x2=\"67.56\" y2=\"60.00\" stroke=\"rgb(0, 0, 0)\" /><text x=\"90.00\" y=\"169.96\" font-size=\"14.0\"\n",
       " fill=\"rgb(0, 0, 255)\" text-anchor=\"middle\" >N</text>\n",
       "<text x=\"60.00\" y=\"169.82\" font-size=\"14.0\"\n",
       " fill=\"rgb(0, 0, 255)\" text-anchor=\"middle\" >N<tspan baseline-shift=\"50%\" font-size=\"10\">+</tspan></text>\n",
       "<text x=\"30.00\" y=\"169.69\" font-size=\"14.0\"\n",
       " fill=\"rgb(0, 0, 255)\" text-anchor=\"middle\" >N<tspan baseline-shift=\"50%\" font-size=\"10\">–</tspan></text>\n",
       "<text x=\"67.67\" y=\"37.00\" font-size=\"14.0\"\n",
       " fill=\"rgb(255, 0, 0)\" text-anchor=\"middle\" >O</text>\n",
       "</svg>\n"
      ]
     },
     "metadata": {},
     "output_type": "display_data"
    }
   ],
   "source": [
    "depolarize!(mol)\n",
    "toallenelike!(mol)\n",
    "molsvg = drawsvg(mol, 200, 200)\n",
    "display(\"image/svg+xml\",  molsvg)"
   ]
  },
  {
   "cell_type": "markdown",
   "metadata": {},
   "source": [
    "## Extract largest molecular graph\n",
    "\n",
    "Chemical structure `SDFIle` provided by reagent venders often have additives, water molecules and inorganic salts. In most cases, main component have the largest molecular graph, so `extractlargestcomponent` can be used to remove unnecessary components. (Note that this method should be carefully applied because there might be additives that have very large molecular graph. Functional group analysis will provide more meaningful desaltation and dehydration workflow)"
   ]
  },
  {
   "cell_type": "code",
   "execution_count": 19,
   "metadata": {
    "ExecuteTime": {
     "end_time": "2020-07-29T22:55:40.512000+09:00",
     "start_time": "2020-07-29T13:55:23.066Z"
    }
   },
   "outputs": [
    {
     "data": {
      "image/svg+xml": [
       "<svg xmlns=\"http://www.w3.org/2000/svg\"\n",
       " xmlns:xlink=\"http://www.w3.org/1999/xlink\"\n",
       " version=\"1.2\" baseProfile=\"tiny\"\n",
       " text-rendering=\"geometricPrecision\"\n",
       " preserveAspectRatio=\"xMidYMid meet\"\n",
       " font-weight=\"normal\"\n",
       " font-family=\"Helvetica\"\n",
       " width=\"200\" height=\"200\"\n",
       " viewBox=\"0 0 300.00 268.75\">\n",
       "<rect x=\"0\" y=\"0\" width=\"300.00\" height=\"268.75\"\n",
       " fill=\"rgb(255, 255, 255)\" opacity=\"0.0\"/>\n",
       "<line x1=\"168.11\" y1=\"99.19\" x2=\"168.15\" y2=\"109.69\" stroke=\"rgb(0, 0, 255)\" />\n",
       "<line x1=\"168.15\" y1=\"109.69\" x2=\"168.19\" y2=\"120.19\" stroke=\"rgb(0, 0, 0)\" />\n",
       "<line x1=\"160.27\" y1=\"85.71\" x2=\"151.16\" y2=\"80.50\" stroke=\"rgb(0, 0, 255)\" />\n",
       "<line x1=\"151.16\" y1=\"80.50\" x2=\"142.05\" y2=\"75.28\" stroke=\"rgb(0, 0, 0)\" />\n",
       "<line x1=\"142.26\" y1=\"135.28\" x2=\"142.30\" y2=\"145.78\" stroke=\"rgb(0, 0, 0)\" />\n",
       "<line x1=\"142.30\" y1=\"145.78\" x2=\"142.34\" y2=\"156.28\" stroke=\"rgb(0, 0, 255)\" />\n",
       "<line x1=\"150.18\" y1=\"169.75\" x2=\"159.29\" y2=\"174.97\" stroke=\"rgb(0, 0, 255)\" />\n",
       "<line x1=\"159.29\" y1=\"174.97\" x2=\"168.41\" y2=\"180.19\" stroke=\"rgb(0, 0, 0)\" />\n",
       "<line x1=\"134.59\" y1=\"169.80\" x2=\"125.52\" y2=\"175.09\" stroke=\"rgb(0, 0, 255)\" />\n",
       "<line x1=\"125.52\" y1=\"175.09\" x2=\"116.45\" y2=\"180.37\" stroke=\"rgb(0, 0, 0)\" />\n",
       "<line x1=\"142.05\" y1=\"75.28\" x2=\"116.12\" y2=\"90.37\" stroke=\"rgb(0, 0, 0)\" /><line x1=\"212.05\" y1=\"34.53\" x2=\"202.97\" y2=\"39.81\" stroke=\"rgb(255, 0, 0)\" />\n",
       "<line x1=\"202.97\" y1=\"39.81\" x2=\"193.90\" y2=\"45.10\" stroke=\"rgb(0, 0, 0)\" />\n",
       "<line x1=\"113.87\" y1=\"90.38\" x2=\"113.91\" y2=\"100.88\" stroke=\"rgb(0, 0, 0)\" />\n",
       "<line x1=\"113.91\" y1=\"100.88\" x2=\"113.95\" y2=\"111.38\" stroke=\"rgb(255, 0, 0)\" />\n",
       "<line x1=\"118.37\" y1=\"90.36\" x2=\"118.41\" y2=\"100.86\" stroke=\"rgb(0, 0, 0)\" />\n",
       "<line x1=\"118.41\" y1=\"100.86\" x2=\"118.45\" y2=\"111.36\" stroke=\"rgb(255, 0, 0)\" />\n",
       "<line x1=\"194.01\" y1=\"75.10\" x2=\"184.93\" y2=\"80.38\" stroke=\"rgb(0, 0, 0)\" />\n",
       "<line x1=\"184.93\" y1=\"80.38\" x2=\"175.86\" y2=\"85.66\" stroke=\"rgb(0, 0, 255)\" />\n",
       "<line x1=\"168.19\" y1=\"120.19\" x2=\"142.26\" y2=\"135.28\" stroke=\"rgb(0, 0, 0)\" /><line x1=\"168.41\" y1=\"180.19\" x2=\"194.33\" y2=\"165.09\" stroke=\"rgb(0, 0, 0)\" /><line x1=\"195.02\" y1=\"43.14\" x2=\"185.91\" y2=\"37.93\" stroke=\"rgb(0, 0, 0)\" />\n",
       "<line x1=\"185.91\" y1=\"37.93\" x2=\"176.79\" y2=\"32.71\" stroke=\"rgb(255, 0, 0)\" />\n",
       "<line x1=\"192.78\" y1=\"47.05\" x2=\"183.67\" y2=\"41.83\" stroke=\"rgb(0, 0, 0)\" />\n",
       "<line x1=\"183.67\" y1=\"41.83\" x2=\"174.56\" y2=\"36.62\" stroke=\"rgb(255, 0, 0)\" />\n",
       "<line x1=\"90.41\" y1=\"165.46\" x2=\"81.34\" y2=\"170.74\" stroke=\"rgb(0, 0, 0)\" />\n",
       "<line x1=\"81.34\" y1=\"170.74\" x2=\"72.26\" y2=\"176.03\" stroke=\"rgb(255, 0, 0)\" />\n",
       "<line x1=\"92.66\" y1=\"165.45\" x2=\"92.63\" y2=\"154.96\" stroke=\"rgb(0, 0, 0)\" />\n",
       "<line x1=\"92.63\" y1=\"154.96\" x2=\"92.59\" y2=\"144.46\" stroke=\"rgb(255, 0, 0)\" />\n",
       "<line x1=\"88.16\" y1=\"165.47\" x2=\"88.13\" y2=\"154.97\" stroke=\"rgb(0, 0, 0)\" />\n",
       "<line x1=\"88.13\" y1=\"154.97\" x2=\"88.09\" y2=\"144.47\" stroke=\"rgb(255, 0, 0)\" />\n",
       "<line x1=\"116.45\" y1=\"180.37\" x2=\"90.41\" y2=\"165.46\" stroke=\"rgb(0, 0, 0)\" /><line x1=\"196.58\" y1=\"165.08\" x2=\"196.54\" y2=\"154.58\" stroke=\"rgb(0, 0, 0)\" />\n",
       "<line x1=\"196.54\" y1=\"154.58\" x2=\"196.51\" y2=\"144.09\" stroke=\"rgb(255, 0, 0)\" />\n",
       "<line x1=\"192.08\" y1=\"165.10\" x2=\"192.04\" y2=\"154.60\" stroke=\"rgb(0, 0, 0)\" />\n",
       "<line x1=\"192.04\" y1=\"154.60\" x2=\"192.01\" y2=\"144.10\" stroke=\"rgb(255, 0, 0)\" />\n",
       "<line x1=\"116.12\" y1=\"90.37\" x2=\"107.01\" y2=\"85.16\" stroke=\"rgb(0, 0, 0)\" />\n",
       "<line x1=\"107.01\" y1=\"85.16\" x2=\"97.90\" y2=\"79.94\" stroke=\"rgb(255, 0, 0)\" />\n",
       "<line x1=\"194.33\" y1=\"165.09\" x2=\"203.44\" y2=\"170.31\" stroke=\"rgb(0, 0, 0)\" />\n",
       "<line x1=\"203.44\" y1=\"170.31\" x2=\"212.56\" y2=\"175.53\" stroke=\"rgb(255, 0, 0)\" />\n",
       "<line x1=\"193.90\" y1=\"45.10\" x2=\"194.01\" y2=\"75.10\" stroke=\"rgb(0, 0, 0)\" /><text x=\"168.08\" y=\"97.19\" font-size=\"14.0\"\n",
       " fill=\"rgb(0, 0, 255)\" text-anchor=\"middle\" >N</text>\n",
       "<text x=\"194.22\" y=\"142.10\" font-size=\"14.0\"\n",
       " fill=\"rgb(255, 0, 0)\" text-anchor=\"middle\" >O</text>\n",
       "<text x=\"116.23\" y=\"127.37\" font-size=\"14.0\"\n",
       " fill=\"rgb(255, 0, 0)\" text-anchor=\"middle\" >O</text>\n",
       "<text x=\"90.31\" y=\"142.47\" font-size=\"14.0\"\n",
       " fill=\"rgb(255, 0, 0)\" text-anchor=\"middle\" >O</text>\n",
       "<text x=\"30.00\" y=\"65.75\" font-size=\"14.0\"\n",
       " fill=\"rgb(0, 192, 192)\" text-anchor=\"middle\" >Na<tspan baseline-shift=\"50%\" font-size=\"10\">+</tspan></text>\n",
       "<text x=\"142.37\" y=\"172.28\" font-size=\"14.0\"\n",
       " fill=\"rgb(0, 0, 255)\" text-anchor=\"middle\" >N</text>\n",
       "<text x=\"219.83\" y=\"37.00\" font-size=\"14.0\"\n",
       " fill=\"rgb(255, 0, 0)\" text-anchor=\"middle\" >O<tspan baseline-shift=\"50%\" font-size=\"10\">–</tspan></text>\n",
       "<text x=\"90.09\" y=\"82.47\" font-size=\"14.0\"\n",
       " fill=\"rgb(255, 0, 0)\" text-anchor=\"middle\" >O<tspan baseline-shift=\"50%\" font-size=\"10\">–</tspan></text>\n",
       "<text x=\"270.00\" y=\"125.75\" font-size=\"14.0\"\n",
       " fill=\"rgb(0, 192, 192)\" text-anchor=\"middle\" >Na<tspan baseline-shift=\"50%\" font-size=\"10\">+</tspan></text>\n",
       "<text x=\"150.00\" y=\"245.75\" font-size=\"14.0\"\n",
       " fill=\"rgb(0, 192, 192)\" text-anchor=\"middle\" >Na<tspan baseline-shift=\"50%\" font-size=\"10\">+</tspan></text>\n",
       "<text x=\"64.49\" y=\"187.56\" font-size=\"14.0\"\n",
       " fill=\"rgb(255, 0, 0)\" text-anchor=\"middle\" >O<tspan baseline-shift=\"50%\" font-size=\"10\">–</tspan></text>\n",
       "<text x=\"167.87\" y=\"37.19\" font-size=\"14.0\"\n",
       " fill=\"rgb(255, 0, 0)\" text-anchor=\"middle\" >O</text>\n",
       "<text x=\"220.37\" y=\"187.00\" font-size=\"14.0\"\n",
       " fill=\"rgb(255, 0, 0)\" text-anchor=\"middle\" >O<tspan baseline-shift=\"50%\" font-size=\"10\">–</tspan></text>\n",
       "<text x=\"30.00\" y=\"125.75\" font-size=\"14.0\"\n",
       " fill=\"rgb(0, 192, 192)\" text-anchor=\"middle\" >Na<tspan baseline-shift=\"50%\" font-size=\"10\">+</tspan></text>\n",
       "</svg>\n"
      ]
     },
     "metadata": {},
     "output_type": "display_data"
    }
   ],
   "source": [
    "mol = smilestomol(\"[O-]C(=O)CN(CCN(CC([O-])=O)CC([O-])=O)CC([O-])=O.[Na+].[Na+].[Na+].[Na+]\")\n",
    "molsvg = drawsvg(mol, 200, 200)\n",
    "display(\"image/svg+xml\",  molsvg)"
   ]
  },
  {
   "cell_type": "code",
   "execution_count": 20,
   "metadata": {
    "ExecuteTime": {
     "end_time": "2020-07-29T22:55:40.824000+09:00",
     "start_time": "2020-07-29T13:55:23.068Z"
    }
   },
   "outputs": [
    {
     "data": {
      "image/svg+xml": [
       "<svg xmlns=\"http://www.w3.org/2000/svg\"\n",
       " xmlns:xlink=\"http://www.w3.org/1999/xlink\"\n",
       " version=\"1.2\" baseProfile=\"tiny\"\n",
       " text-rendering=\"geometricPrecision\"\n",
       " preserveAspectRatio=\"xMidYMid meet\"\n",
       " font-weight=\"normal\"\n",
       " font-family=\"Helvetica\"\n",
       " width=\"200\" height=\"200\"\n",
       " viewBox=\"0 0 215.88 210.56\">\n",
       "<rect x=\"0\" y=\"0\" width=\"215.88\" height=\"210.56\"\n",
       " fill=\"rgb(255, 255, 255)\" opacity=\"0.0\"/>\n",
       "<line x1=\"133.63\" y1=\"99.19\" x2=\"133.67\" y2=\"109.69\" stroke=\"rgb(0, 0, 255)\" />\n",
       "<line x1=\"133.67\" y1=\"109.69\" x2=\"133.70\" y2=\"120.19\" stroke=\"rgb(0, 0, 0)\" />\n",
       "<line x1=\"125.79\" y1=\"85.71\" x2=\"116.67\" y2=\"80.50\" stroke=\"rgb(0, 0, 255)\" />\n",
       "<line x1=\"116.67\" y1=\"80.50\" x2=\"107.56\" y2=\"75.28\" stroke=\"rgb(0, 0, 0)\" />\n",
       "<line x1=\"107.78\" y1=\"135.28\" x2=\"107.82\" y2=\"145.78\" stroke=\"rgb(0, 0, 0)\" />\n",
       "<line x1=\"107.82\" y1=\"145.78\" x2=\"107.85\" y2=\"156.28\" stroke=\"rgb(0, 0, 255)\" />\n",
       "<line x1=\"115.70\" y1=\"169.75\" x2=\"124.81\" y2=\"174.97\" stroke=\"rgb(0, 0, 255)\" />\n",
       "<line x1=\"124.81\" y1=\"174.97\" x2=\"133.92\" y2=\"180.19\" stroke=\"rgb(0, 0, 0)\" />\n",
       "<line x1=\"100.11\" y1=\"169.80\" x2=\"91.03\" y2=\"175.09\" stroke=\"rgb(0, 0, 255)\" />\n",
       "<line x1=\"91.03\" y1=\"175.09\" x2=\"81.96\" y2=\"180.37\" stroke=\"rgb(0, 0, 0)\" />\n",
       "<line x1=\"107.56\" y1=\"75.28\" x2=\"81.64\" y2=\"90.37\" stroke=\"rgb(0, 0, 0)\" /><line x1=\"177.56\" y1=\"34.53\" x2=\"168.49\" y2=\"39.81\" stroke=\"rgb(255, 0, 0)\" />\n",
       "<line x1=\"168.49\" y1=\"39.81\" x2=\"159.41\" y2=\"45.10\" stroke=\"rgb(0, 0, 0)\" />\n",
       "<line x1=\"79.39\" y1=\"90.38\" x2=\"79.42\" y2=\"100.88\" stroke=\"rgb(0, 0, 0)\" />\n",
       "<line x1=\"79.42\" y1=\"100.88\" x2=\"79.46\" y2=\"111.38\" stroke=\"rgb(255, 0, 0)\" />\n",
       "<line x1=\"83.89\" y1=\"90.36\" x2=\"83.92\" y2=\"100.86\" stroke=\"rgb(0, 0, 0)\" />\n",
       "<line x1=\"83.92\" y1=\"100.86\" x2=\"83.96\" y2=\"111.36\" stroke=\"rgb(255, 0, 0)\" />\n",
       "<line x1=\"159.52\" y1=\"75.10\" x2=\"150.45\" y2=\"80.38\" stroke=\"rgb(0, 0, 0)\" />\n",
       "<line x1=\"150.45\" y1=\"80.38\" x2=\"141.37\" y2=\"85.66\" stroke=\"rgb(0, 0, 255)\" />\n",
       "<line x1=\"133.70\" y1=\"120.19\" x2=\"107.78\" y2=\"135.28\" stroke=\"rgb(0, 0, 0)\" /><line x1=\"133.92\" y1=\"180.19\" x2=\"159.85\" y2=\"165.09\" stroke=\"rgb(0, 0, 0)\" /><line x1=\"160.53\" y1=\"43.14\" x2=\"151.42\" y2=\"37.93\" stroke=\"rgb(0, 0, 0)\" />\n",
       "<line x1=\"151.42\" y1=\"37.93\" x2=\"142.31\" y2=\"32.71\" stroke=\"rgb(255, 0, 0)\" />\n",
       "<line x1=\"158.30\" y1=\"47.05\" x2=\"149.18\" y2=\"41.83\" stroke=\"rgb(0, 0, 0)\" />\n",
       "<line x1=\"149.18\" y1=\"41.83\" x2=\"140.07\" y2=\"36.62\" stroke=\"rgb(255, 0, 0)\" />\n",
       "<line x1=\"55.93\" y1=\"165.46\" x2=\"46.85\" y2=\"170.74\" stroke=\"rgb(0, 0, 0)\" />\n",
       "<line x1=\"46.85\" y1=\"170.74\" x2=\"37.78\" y2=\"176.03\" stroke=\"rgb(255, 0, 0)\" />\n",
       "<line x1=\"58.18\" y1=\"165.45\" x2=\"58.14\" y2=\"154.96\" stroke=\"rgb(0, 0, 0)\" />\n",
       "<line x1=\"58.14\" y1=\"154.96\" x2=\"58.10\" y2=\"144.46\" stroke=\"rgb(255, 0, 0)\" />\n",
       "<line x1=\"53.68\" y1=\"165.47\" x2=\"53.64\" y2=\"154.97\" stroke=\"rgb(0, 0, 0)\" />\n",
       "<line x1=\"53.64\" y1=\"154.97\" x2=\"53.60\" y2=\"144.47\" stroke=\"rgb(255, 0, 0)\" />\n",
       "<line x1=\"81.96\" y1=\"180.37\" x2=\"55.93\" y2=\"165.46\" stroke=\"rgb(0, 0, 0)\" /><line x1=\"162.10\" y1=\"165.08\" x2=\"162.06\" y2=\"154.58\" stroke=\"rgb(0, 0, 0)\" />\n",
       "<line x1=\"162.06\" y1=\"154.58\" x2=\"162.02\" y2=\"144.09\" stroke=\"rgb(255, 0, 0)\" />\n",
       "<line x1=\"157.60\" y1=\"165.10\" x2=\"157.56\" y2=\"154.60\" stroke=\"rgb(0, 0, 0)\" />\n",
       "<line x1=\"157.56\" y1=\"154.60\" x2=\"157.52\" y2=\"144.10\" stroke=\"rgb(255, 0, 0)\" />\n",
       "<line x1=\"81.64\" y1=\"90.37\" x2=\"72.52\" y2=\"85.16\" stroke=\"rgb(0, 0, 0)\" />\n",
       "<line x1=\"72.52\" y1=\"85.16\" x2=\"63.41\" y2=\"79.94\" stroke=\"rgb(255, 0, 0)\" />\n",
       "<line x1=\"159.85\" y1=\"165.09\" x2=\"168.96\" y2=\"170.31\" stroke=\"rgb(0, 0, 0)\" />\n",
       "<line x1=\"168.96\" y1=\"170.31\" x2=\"178.07\" y2=\"175.53\" stroke=\"rgb(255, 0, 0)\" />\n",
       "<line x1=\"159.41\" y1=\"45.10\" x2=\"159.52\" y2=\"75.10\" stroke=\"rgb(0, 0, 0)\" /><text x=\"133.60\" y=\"97.19\" font-size=\"14.0\"\n",
       " fill=\"rgb(0, 0, 255)\" text-anchor=\"middle\" >N</text>\n",
       "<text x=\"159.74\" y=\"142.10\" font-size=\"14.0\"\n",
       " fill=\"rgb(255, 0, 0)\" text-anchor=\"middle\" >O</text>\n",
       "<text x=\"81.74\" y=\"127.37\" font-size=\"14.0\"\n",
       " fill=\"rgb(255, 0, 0)\" text-anchor=\"middle\" >O</text>\n",
       "<text x=\"55.82\" y=\"142.47\" font-size=\"14.0\"\n",
       " fill=\"rgb(255, 0, 0)\" text-anchor=\"middle\" >O</text>\n",
       "<text x=\"107.89\" y=\"172.28\" font-size=\"14.0\"\n",
       " fill=\"rgb(0, 0, 255)\" text-anchor=\"middle\" >N</text>\n",
       "<text x=\"185.34\" y=\"37.00\" font-size=\"14.0\"\n",
       " fill=\"rgb(255, 0, 0)\" text-anchor=\"middle\" >O<tspan baseline-shift=\"50%\" font-size=\"10\">–</tspan></text>\n",
       "<text x=\"55.60\" y=\"82.47\" font-size=\"14.0\"\n",
       " fill=\"rgb(255, 0, 0)\" text-anchor=\"middle\" >O<tspan baseline-shift=\"50%\" font-size=\"10\">–</tspan></text>\n",
       "<text x=\"30.00\" y=\"187.56\" font-size=\"14.0\"\n",
       " fill=\"rgb(255, 0, 0)\" text-anchor=\"middle\" >O<tspan baseline-shift=\"50%\" font-size=\"10\">–</tspan></text>\n",
       "<text x=\"185.88\" y=\"187.00\" font-size=\"14.0\"\n",
       " fill=\"rgb(255, 0, 0)\" text-anchor=\"middle\" >O<tspan baseline-shift=\"50%\" font-size=\"10\">–</tspan></text>\n",
       "<text x=\"133.38\" y=\"37.19\" font-size=\"14.0\"\n",
       " fill=\"rgb(255, 0, 0)\" text-anchor=\"middle\" >O</text>\n",
       "</svg>\n"
      ]
     },
     "metadata": {},
     "output_type": "display_data"
    }
   ],
   "source": [
    "mol = extractlargestcomponent(mol)\n",
    "molsvg = drawsvg(mol, 200, 200)\n",
    "display(\"image/svg+xml\",  molsvg)"
   ]
  }
 ],
 "metadata": {
  "jupytext": {
   "formats": "ipynb,md"
  },
  "kernelspec": {
   "display_name": "Julia 1.6.0",
   "language": "julia",
   "name": "julia-1.6"
  },
  "language_info": {
   "file_extension": ".jl",
   "mimetype": "application/julia",
   "name": "julia",
   "version": "1.6.0"
  }
 },
 "nbformat": 4,
 "nbformat_minor": 2
}
